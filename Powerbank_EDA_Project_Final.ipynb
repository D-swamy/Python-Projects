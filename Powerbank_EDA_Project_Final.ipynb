{
 "cells": [
  {
   "cell_type": "code",
   "execution_count": 1,
   "id": "4c82f961",
   "metadata": {},
   "outputs": [],
   "source": [
    "import re\n",
    "import requests\n",
    "from bs4 import BeautifulSoup\n",
    "import numpy as np\n",
    "import pandas as pd\n",
    "import seaborn as sns\n",
    "import matplotlib.pyplot as plt"
   ]
  },
  {
   "cell_type": "code",
   "execution_count": 2,
   "id": "91e021d8",
   "metadata": {},
   "outputs": [],
   "source": [
    "url1 = 'https://www.flipkart.com/mobile-accessories/power-banks/pr?sid=tyy,4mr,fu6&otracker=categorytree&otracker=nmenu_sub_Electronics_0_Power%20Banks'"
   ]
  },
  {
   "cell_type": "code",
   "execution_count": 3,
   "id": "f10b1e8f",
   "metadata": {},
   "outputs": [],
   "source": [
    "url2 = 'https://www.flipkart.com/mobile-accessories/power-banks/pr?sid=tyy%2C4mr%2Cfu6&otracker=categorytree&otracker=nmenu_sub_Electronics_0_Power+Banks&page=2'"
   ]
  },
  {
   "cell_type": "code",
   "execution_count": 4,
   "id": "bbda8ef0",
   "metadata": {},
   "outputs": [
    {
     "name": "stdout",
     "output_type": "stream",
     "text": [
      "https://www.flipkart.com/mobile-accessories/power-banks/pr?sid=tyy%2C4mr%2Cfu6&otracker=categorytree&otracker=nmenu_sub_Electronics_0_Power+Banks&page=1\n",
      "https://www.flipkart.com/mobile-accessories/power-banks/pr?sid=tyy%2C4mr%2Cfu6&otracker=categorytree&otracker=nmenu_sub_Electronics_0_Power+Banks&page=2\n",
      "https://www.flipkart.com/mobile-accessories/power-banks/pr?sid=tyy%2C4mr%2Cfu6&otracker=categorytree&otracker=nmenu_sub_Electronics_0_Power+Banks&page=3\n",
      "https://www.flipkart.com/mobile-accessories/power-banks/pr?sid=tyy%2C4mr%2Cfu6&otracker=categorytree&otracker=nmenu_sub_Electronics_0_Power+Banks&page=4\n",
      "https://www.flipkart.com/mobile-accessories/power-banks/pr?sid=tyy%2C4mr%2Cfu6&otracker=categorytree&otracker=nmenu_sub_Electronics_0_Power+Banks&page=5\n",
      "https://www.flipkart.com/mobile-accessories/power-banks/pr?sid=tyy%2C4mr%2Cfu6&otracker=categorytree&otracker=nmenu_sub_Electronics_0_Power+Banks&page=6\n",
      "https://www.flipkart.com/mobile-accessories/power-banks/pr?sid=tyy%2C4mr%2Cfu6&otracker=categorytree&otracker=nmenu_sub_Electronics_0_Power+Banks&page=7\n",
      "https://www.flipkart.com/mobile-accessories/power-banks/pr?sid=tyy%2C4mr%2Cfu6&otracker=categorytree&otracker=nmenu_sub_Electronics_0_Power+Banks&page=8\n",
      "https://www.flipkart.com/mobile-accessories/power-banks/pr?sid=tyy%2C4mr%2Cfu6&otracker=categorytree&otracker=nmenu_sub_Electronics_0_Power+Banks&page=9\n",
      "https://www.flipkart.com/mobile-accessories/power-banks/pr?sid=tyy%2C4mr%2Cfu6&otracker=categorytree&otracker=nmenu_sub_Electronics_0_Power+Banks&page=10\n",
      "https://www.flipkart.com/mobile-accessories/power-banks/pr?sid=tyy%2C4mr%2Cfu6&otracker=categorytree&otracker=nmenu_sub_Electronics_0_Power+Banks&page=11\n",
      "https://www.flipkart.com/mobile-accessories/power-banks/pr?sid=tyy%2C4mr%2Cfu6&otracker=categorytree&otracker=nmenu_sub_Electronics_0_Power+Banks&page=12\n",
      "https://www.flipkart.com/mobile-accessories/power-banks/pr?sid=tyy%2C4mr%2Cfu6&otracker=categorytree&otracker=nmenu_sub_Electronics_0_Power+Banks&page=13\n",
      "https://www.flipkart.com/mobile-accessories/power-banks/pr?sid=tyy%2C4mr%2Cfu6&otracker=categorytree&otracker=nmenu_sub_Electronics_0_Power+Banks&page=14\n",
      "https://www.flipkart.com/mobile-accessories/power-banks/pr?sid=tyy%2C4mr%2Cfu6&otracker=categorytree&otracker=nmenu_sub_Electronics_0_Power+Banks&page=15\n",
      "https://www.flipkart.com/mobile-accessories/power-banks/pr?sid=tyy%2C4mr%2Cfu6&otracker=categorytree&otracker=nmenu_sub_Electronics_0_Power+Banks&page=16\n",
      "https://www.flipkart.com/mobile-accessories/power-banks/pr?sid=tyy%2C4mr%2Cfu6&otracker=categorytree&otracker=nmenu_sub_Electronics_0_Power+Banks&page=17\n",
      "https://www.flipkart.com/mobile-accessories/power-banks/pr?sid=tyy%2C4mr%2Cfu6&otracker=categorytree&otracker=nmenu_sub_Electronics_0_Power+Banks&page=18\n",
      "https://www.flipkart.com/mobile-accessories/power-banks/pr?sid=tyy%2C4mr%2Cfu6&otracker=categorytree&otracker=nmenu_sub_Electronics_0_Power+Banks&page=19\n",
      "https://www.flipkart.com/mobile-accessories/power-banks/pr?sid=tyy%2C4mr%2Cfu6&otracker=categorytree&otracker=nmenu_sub_Electronics_0_Power+Banks&page=20\n",
      "https://www.flipkart.com/mobile-accessories/power-banks/pr?sid=tyy%2C4mr%2Cfu6&otracker=categorytree&otracker=nmenu_sub_Electronics_0_Power+Banks&page=21\n",
      "https://www.flipkart.com/mobile-accessories/power-banks/pr?sid=tyy%2C4mr%2Cfu6&otracker=categorytree&otracker=nmenu_sub_Electronics_0_Power+Banks&page=22\n",
      "https://www.flipkart.com/mobile-accessories/power-banks/pr?sid=tyy%2C4mr%2Cfu6&otracker=categorytree&otracker=nmenu_sub_Electronics_0_Power+Banks&page=23\n",
      "https://www.flipkart.com/mobile-accessories/power-banks/pr?sid=tyy%2C4mr%2Cfu6&otracker=categorytree&otracker=nmenu_sub_Electronics_0_Power+Banks&page=24\n",
      "https://www.flipkart.com/mobile-accessories/power-banks/pr?sid=tyy%2C4mr%2Cfu6&otracker=categorytree&otracker=nmenu_sub_Electronics_0_Power+Banks&page=25\n"
     ]
    }
   ],
   "source": [
    "for i in range(1,26):\n",
    "    url=f'https://www.flipkart.com/mobile-accessories/power-banks/pr?sid=tyy%2C4mr%2Cfu6&otracker=categorytree&otracker=nmenu_sub_Electronics_0_Power+Banks&page={i}'\n",
    "    print(url)"
   ]
  },
  {
   "cell_type": "code",
   "execution_count": 5,
   "id": "a6c82de6",
   "metadata": {},
   "outputs": [
    {
     "name": "stdout",
     "output_type": "stream",
     "text": [
      "https://www.flipkart.com/mobile-accessories/power-banks/pr?sid=tyy%2C4mr%2Cfu6&otracker=categorytree&otracker=nmenu_sub_Electronics_0_Power+Banks&page=1\n",
      "https://www.flipkart.com/mobile-accessories/power-banks/pr?sid=tyy%2C4mr%2Cfu6&otracker=categorytree&otracker=nmenu_sub_Electronics_0_Power+Banks&page=2\n",
      "https://www.flipkart.com/mobile-accessories/power-banks/pr?sid=tyy%2C4mr%2Cfu6&otracker=categorytree&otracker=nmenu_sub_Electronics_0_Power+Banks&page=3\n",
      "https://www.flipkart.com/mobile-accessories/power-banks/pr?sid=tyy%2C4mr%2Cfu6&otracker=categorytree&otracker=nmenu_sub_Electronics_0_Power+Banks&page=4\n",
      "https://www.flipkart.com/mobile-accessories/power-banks/pr?sid=tyy%2C4mr%2Cfu6&otracker=categorytree&otracker=nmenu_sub_Electronics_0_Power+Banks&page=5\n",
      "https://www.flipkart.com/mobile-accessories/power-banks/pr?sid=tyy%2C4mr%2Cfu6&otracker=categorytree&otracker=nmenu_sub_Electronics_0_Power+Banks&page=6\n",
      "https://www.flipkart.com/mobile-accessories/power-banks/pr?sid=tyy%2C4mr%2Cfu6&otracker=categorytree&otracker=nmenu_sub_Electronics_0_Power+Banks&page=7\n",
      "https://www.flipkart.com/mobile-accessories/power-banks/pr?sid=tyy%2C4mr%2Cfu6&otracker=categorytree&otracker=nmenu_sub_Electronics_0_Power+Banks&page=8\n",
      "https://www.flipkart.com/mobile-accessories/power-banks/pr?sid=tyy%2C4mr%2Cfu6&otracker=categorytree&otracker=nmenu_sub_Electronics_0_Power+Banks&page=9\n",
      "https://www.flipkart.com/mobile-accessories/power-banks/pr?sid=tyy%2C4mr%2Cfu6&otracker=categorytree&otracker=nmenu_sub_Electronics_0_Power+Banks&page=10\n",
      "https://www.flipkart.com/mobile-accessories/power-banks/pr?sid=tyy%2C4mr%2Cfu6&otracker=categorytree&otracker=nmenu_sub_Electronics_0_Power+Banks&page=11\n",
      "https://www.flipkart.com/mobile-accessories/power-banks/pr?sid=tyy%2C4mr%2Cfu6&otracker=categorytree&otracker=nmenu_sub_Electronics_0_Power+Banks&page=12\n",
      "https://www.flipkart.com/mobile-accessories/power-banks/pr?sid=tyy%2C4mr%2Cfu6&otracker=categorytree&otracker=nmenu_sub_Electronics_0_Power+Banks&page=13\n",
      "https://www.flipkart.com/mobile-accessories/power-banks/pr?sid=tyy%2C4mr%2Cfu6&otracker=categorytree&otracker=nmenu_sub_Electronics_0_Power+Banks&page=14\n",
      "https://www.flipkart.com/mobile-accessories/power-banks/pr?sid=tyy%2C4mr%2Cfu6&otracker=categorytree&otracker=nmenu_sub_Electronics_0_Power+Banks&page=15\n",
      "https://www.flipkart.com/mobile-accessories/power-banks/pr?sid=tyy%2C4mr%2Cfu6&otracker=categorytree&otracker=nmenu_sub_Electronics_0_Power+Banks&page=16\n",
      "https://www.flipkart.com/mobile-accessories/power-banks/pr?sid=tyy%2C4mr%2Cfu6&otracker=categorytree&otracker=nmenu_sub_Electronics_0_Power+Banks&page=17\n",
      "https://www.flipkart.com/mobile-accessories/power-banks/pr?sid=tyy%2C4mr%2Cfu6&otracker=categorytree&otracker=nmenu_sub_Electronics_0_Power+Banks&page=18\n",
      "https://www.flipkart.com/mobile-accessories/power-banks/pr?sid=tyy%2C4mr%2Cfu6&otracker=categorytree&otracker=nmenu_sub_Electronics_0_Power+Banks&page=19\n",
      "https://www.flipkart.com/mobile-accessories/power-banks/pr?sid=tyy%2C4mr%2Cfu6&otracker=categorytree&otracker=nmenu_sub_Electronics_0_Power+Banks&page=20\n",
      "https://www.flipkart.com/mobile-accessories/power-banks/pr?sid=tyy%2C4mr%2Cfu6&otracker=categorytree&otracker=nmenu_sub_Electronics_0_Power+Banks&page=21\n",
      "https://www.flipkart.com/mobile-accessories/power-banks/pr?sid=tyy%2C4mr%2Cfu6&otracker=categorytree&otracker=nmenu_sub_Electronics_0_Power+Banks&page=22\n",
      "https://www.flipkart.com/mobile-accessories/power-banks/pr?sid=tyy%2C4mr%2Cfu6&otracker=categorytree&otracker=nmenu_sub_Electronics_0_Power+Banks&page=23\n",
      "https://www.flipkart.com/mobile-accessories/power-banks/pr?sid=tyy%2C4mr%2Cfu6&otracker=categorytree&otracker=nmenu_sub_Electronics_0_Power+Banks&page=24\n",
      "https://www.flipkart.com/mobile-accessories/power-banks/pr?sid=tyy%2C4mr%2Cfu6&otracker=categorytree&otracker=nmenu_sub_Electronics_0_Power+Banks&page=25\n"
     ]
    }
   ],
   "source": [
    "brand=[]\n",
    "capacity=[]\n",
    "power=[]\n",
    "price=[]\n",
    "color=[]\n",
    "battery_type=[]\n",
    "ratings=[]\n",
    "\n",
    "for i in range(1,26):\n",
    "    url=f'https://www.flipkart.com/mobile-accessories/power-banks/pr?sid=tyy%2C4mr%2Cfu6&otracker=categorytree&otracker=nmenu_sub_Electronics_0_Power+Banks&page={i}'\n",
    "    print(url)\n",
    "    \n",
    "    page = requests.get(url)\n",
    "    soup = BeautifulSoup(page.text)\n",
    "    \n",
    "    data = soup.find_all('a',class_='s1Q9rs')\n",
    "    for i in data:\n",
    "        regex = re.findall('^\\w+',i.text)\n",
    "        if regex:\n",
    "            brand.append(regex[0])\n",
    "        else:\n",
    "            brand.append(np.nan)\n",
    "        \n",
    "    #cpacity    \n",
    "        \n",
    "        reg = re.findall('\\s(\\d+)\\smAh',i.text)\n",
    "        if reg:\n",
    "            capacity.append(reg[0])\n",
    "        else:\n",
    "            capacity.append(np.nan)\n",
    "            \n",
    "        #Power\n",
    "        reg = re.findall('mAh\\s(\\d+.?\\d+)',i.text)   \n",
    "        if reg:\n",
    "            power.append(reg[0])\n",
    "        else:\n",
    "            power.append(np.nan)\n",
    "        \n",
    "    \n",
    "    data2 = soup.find_all('div',class_='_4ddWXP')\n",
    "    for i in data2:\n",
    "        \n",
    "        #Price\n",
    "        reg = re.findall('₹(.*)₹',i.text)\n",
    "        if reg:\n",
    "            price.append(reg[0])\n",
    "        else:\n",
    "            price.append(np.nan)\n",
    "            \n",
    "        \n",
    "        #color\n",
    "        rx = re.findall('Power\\s(\\w+),',i.text)\n",
    "        if rx:\n",
    "            color.append(rx[0])\n",
    "        else:\n",
    "            color.append(np.nan)\n",
    "            \n",
    "            \n",
    "        #battery_type\n",
    "        \n",
    "        rex = re.findall('Lithium-\\w+|Lithium\\sPolymer',i.text)\n",
    "        if rex:\n",
    "            battery_type.append(rex[0])\n",
    "        else:\n",
    "            battery_type.append(np.nan)\n",
    "            \n",
    "    data3 = soup.find_all('div',class_=\"_4ddWXP\")\n",
    "    for i in data3:\n",
    "        try:\n",
    "            ratings.append(i.find('div',class_='_3LWZlK').text)\n",
    "        except:\n",
    "            ratings.append(np.nan)\n",
    "            \n"
   ]
  },
  {
   "cell_type": "raw",
   "id": "63a077cf",
   "metadata": {},
   "source": [
    "#power = []\n",
    "data = soup.find_all('a',class_='s1Q9rs')\n",
    "for i in data:\n",
    "    reg = re.findall('mAh\\s(\\d+.?\\d+)',i.text)\n",
    "    if reg:\n",
    "        \n",
    "        power.append(reg[0])\n",
    "    else:\n",
    "        power.append(np.nan)\n",
    "        \n"
   ]
  },
  {
   "cell_type": "code",
   "execution_count": 6,
   "id": "be5a35fc",
   "metadata": {},
   "outputs": [
    {
     "data": {
      "text/plain": [
       "1000"
      ]
     },
     "execution_count": 6,
     "metadata": {},
     "output_type": "execute_result"
    }
   ],
   "source": [
    "len(brand)"
   ]
  },
  {
   "cell_type": "code",
   "execution_count": 7,
   "id": "cb5b8351",
   "metadata": {},
   "outputs": [
    {
     "data": {
      "text/plain": [
       "1000"
      ]
     },
     "execution_count": 7,
     "metadata": {},
     "output_type": "execute_result"
    }
   ],
   "source": [
    "len(power)"
   ]
  },
  {
   "cell_type": "code",
   "execution_count": 8,
   "id": "a85ed143",
   "metadata": {},
   "outputs": [
    {
     "data": {
      "text/plain": [
       "1000"
      ]
     },
     "execution_count": 8,
     "metadata": {},
     "output_type": "execute_result"
    }
   ],
   "source": [
    "#price\n",
    "len(brand)"
   ]
  },
  {
   "cell_type": "code",
   "execution_count": 9,
   "id": "be406075",
   "metadata": {},
   "outputs": [
    {
     "data": {
      "text/plain": [
       "1000"
      ]
     },
     "execution_count": 9,
     "metadata": {},
     "output_type": "execute_result"
    }
   ],
   "source": [
    "len(capacity)"
   ]
  },
  {
   "cell_type": "code",
   "execution_count": null,
   "id": "92baff0f",
   "metadata": {},
   "outputs": [],
   "source": []
  },
  {
   "cell_type": "code",
   "execution_count": 8,
   "id": "311e7c6b",
   "metadata": {},
   "outputs": [],
   "source": [
    "df = pd.DataFrame({\"Brand\":brand,\"Capacity\":capacity,\"Power\":power,\"Price\":price,\"Color\":color,\"Battery_Type\":battery_type,\"Ratings\":ratings})"
   ]
  },
  {
   "cell_type": "code",
   "execution_count": 9,
   "id": "b7c47534",
   "metadata": {},
   "outputs": [],
   "source": [
    "df['Price'] =  df['Price'].str.replace(\",\",\"\")"
   ]
  },
  {
   "cell_type": "code",
   "execution_count": 10,
   "id": "0dbde138",
   "metadata": {},
   "outputs": [
    {
     "data": {
      "text/html": [
       "<div>\n",
       "<style scoped>\n",
       "    .dataframe tbody tr th:only-of-type {\n",
       "        vertical-align: middle;\n",
       "    }\n",
       "\n",
       "    .dataframe tbody tr th {\n",
       "        vertical-align: top;\n",
       "    }\n",
       "\n",
       "    .dataframe thead th {\n",
       "        text-align: right;\n",
       "    }\n",
       "</style>\n",
       "<table border=\"1\" class=\"dataframe\">\n",
       "  <thead>\n",
       "    <tr style=\"text-align: right;\">\n",
       "      <th></th>\n",
       "      <th>Brand</th>\n",
       "      <th>Capacity</th>\n",
       "      <th>Power</th>\n",
       "      <th>Price</th>\n",
       "      <th>Color</th>\n",
       "      <th>Battery_Type</th>\n",
       "      <th>Ratings</th>\n",
       "    </tr>\n",
       "  </thead>\n",
       "  <tbody>\n",
       "    <tr>\n",
       "      <th>0</th>\n",
       "      <td>Mi</td>\n",
       "      <td>10000</td>\n",
       "      <td>18</td>\n",
       "      <td>1249</td>\n",
       "      <td>BankBlue</td>\n",
       "      <td>Lithium Polymer</td>\n",
       "      <td>4.3</td>\n",
       "    </tr>\n",
       "    <tr>\n",
       "      <th>1</th>\n",
       "      <td>URBN</td>\n",
       "      <td>10000</td>\n",
       "      <td>12</td>\n",
       "      <td>899</td>\n",
       "      <td>NaN</td>\n",
       "      <td>Lithium Polymer</td>\n",
       "      <td>4</td>\n",
       "    </tr>\n",
       "    <tr>\n",
       "      <th>2</th>\n",
       "      <td>Mi</td>\n",
       "      <td>20000</td>\n",
       "      <td>18</td>\n",
       "      <td>1899</td>\n",
       "      <td>BankBlack</td>\n",
       "      <td>Lithium Polymer</td>\n",
       "      <td>4.3</td>\n",
       "    </tr>\n",
       "    <tr>\n",
       "      <th>3</th>\n",
       "      <td>boAt</td>\n",
       "      <td>20000</td>\n",
       "      <td>22.5</td>\n",
       "      <td>1499</td>\n",
       "      <td>BankBurgundy</td>\n",
       "      <td>Lithium Polymer</td>\n",
       "      <td>4.1</td>\n",
       "    </tr>\n",
       "    <tr>\n",
       "      <th>4</th>\n",
       "      <td>boAt</td>\n",
       "      <td>20000</td>\n",
       "      <td>22.5</td>\n",
       "      <td>1499</td>\n",
       "      <td>NaN</td>\n",
       "      <td>Lithium Polymer</td>\n",
       "      <td>4.1</td>\n",
       "    </tr>\n",
       "    <tr>\n",
       "      <th>...</th>\n",
       "      <td>...</td>\n",
       "      <td>...</td>\n",
       "      <td>...</td>\n",
       "      <td>...</td>\n",
       "      <td>...</td>\n",
       "      <td>...</td>\n",
       "      <td>...</td>\n",
       "    </tr>\n",
       "    <tr>\n",
       "      <th>995</th>\n",
       "      <td>misspro</td>\n",
       "      <td>10000</td>\n",
       "      <td>12</td>\n",
       "      <td>569</td>\n",
       "      <td>BankYellow</td>\n",
       "      <td>Lithium-ion</td>\n",
       "      <td>NaN</td>\n",
       "    </tr>\n",
       "    <tr>\n",
       "      <th>996</th>\n",
       "      <td>URBN</td>\n",
       "      <td>20000</td>\n",
       "      <td>22.5</td>\n",
       "      <td>1799</td>\n",
       "      <td>BankBlue</td>\n",
       "      <td>Lithium Polymer</td>\n",
       "      <td>4.5</td>\n",
       "    </tr>\n",
       "    <tr>\n",
       "      <th>997</th>\n",
       "      <td>REDMI</td>\n",
       "      <td>10000</td>\n",
       "      <td>10</td>\n",
       "      <td>1099</td>\n",
       "      <td>BankBlack</td>\n",
       "      <td>Lithium Polymer</td>\n",
       "      <td>4.2</td>\n",
       "    </tr>\n",
       "    <tr>\n",
       "      <th>998</th>\n",
       "      <td>reditor</td>\n",
       "      <td>30000</td>\n",
       "      <td>15</td>\n",
       "      <td>599</td>\n",
       "      <td>BankWhite</td>\n",
       "      <td>Lithium-ion</td>\n",
       "      <td>NaN</td>\n",
       "    </tr>\n",
       "    <tr>\n",
       "      <th>999</th>\n",
       "      <td>DG</td>\n",
       "      <td>45600</td>\n",
       "      <td>NaN</td>\n",
       "      <td>1479</td>\n",
       "      <td>BankBlack</td>\n",
       "      <td>Lithium Polymer</td>\n",
       "      <td>NaN</td>\n",
       "    </tr>\n",
       "  </tbody>\n",
       "</table>\n",
       "<p>1000 rows × 7 columns</p>\n",
       "</div>"
      ],
      "text/plain": [
       "       Brand Capacity Power Price         Color     Battery_Type Ratings\n",
       "0         Mi    10000    18  1249      BankBlue  Lithium Polymer     4.3\n",
       "1       URBN    10000    12   899           NaN  Lithium Polymer       4\n",
       "2         Mi    20000    18  1899     BankBlack  Lithium Polymer     4.3\n",
       "3       boAt    20000  22.5  1499  BankBurgundy  Lithium Polymer     4.1\n",
       "4       boAt    20000  22.5  1499           NaN  Lithium Polymer     4.1\n",
       "..       ...      ...   ...   ...           ...              ...     ...\n",
       "995  misspro    10000    12   569    BankYellow      Lithium-ion     NaN\n",
       "996     URBN    20000  22.5  1799      BankBlue  Lithium Polymer     4.5\n",
       "997    REDMI    10000    10  1099     BankBlack  Lithium Polymer     4.2\n",
       "998  reditor    30000    15   599     BankWhite      Lithium-ion     NaN\n",
       "999       DG    45600   NaN  1479     BankBlack  Lithium Polymer     NaN\n",
       "\n",
       "[1000 rows x 7 columns]"
      ]
     },
     "execution_count": 10,
     "metadata": {},
     "output_type": "execute_result"
    }
   ],
   "source": [
    "df"
   ]
  },
  {
   "cell_type": "code",
   "execution_count": 11,
   "id": "28bb48aa",
   "metadata": {},
   "outputs": [],
   "source": [
    "df.to_csv(\"PowerBank.csv\")"
   ]
  },
  {
   "cell_type": "code",
   "execution_count": 12,
   "id": "6b25aa95",
   "metadata": {},
   "outputs": [],
   "source": [
    "df1 = pd.read_csv(\"PowerBank.csv\")"
   ]
  },
  {
   "cell_type": "code",
   "execution_count": 13,
   "id": "2289505e",
   "metadata": {},
   "outputs": [],
   "source": [
    "import os"
   ]
  },
  {
   "cell_type": "code",
   "execution_count": 14,
   "id": "d67da48a",
   "metadata": {},
   "outputs": [
    {
     "data": {
      "text/plain": [
       "'C:\\\\Users\\\\rahul\\\\RR\\\\Project EDA'"
      ]
     },
     "execution_count": 14,
     "metadata": {},
     "output_type": "execute_result"
    }
   ],
   "source": [
    "os.getcwd()"
   ]
  },
  {
   "cell_type": "code",
   "execution_count": 15,
   "id": "d8903edd",
   "metadata": {},
   "outputs": [],
   "source": [
    "df1.drop('Unnamed: 0',axis = 1,inplace = True)"
   ]
  },
  {
   "cell_type": "code",
   "execution_count": null,
   "id": "8eaf08cb",
   "metadata": {},
   "outputs": [],
   "source": []
  },
  {
   "cell_type": "code",
   "execution_count": 45,
   "id": "40add17b",
   "metadata": {},
   "outputs": [
    {
     "data": {
      "text/html": [
       "<div>\n",
       "<style scoped>\n",
       "    .dataframe tbody tr th:only-of-type {\n",
       "        vertical-align: middle;\n",
       "    }\n",
       "\n",
       "    .dataframe tbody tr th {\n",
       "        vertical-align: top;\n",
       "    }\n",
       "\n",
       "    .dataframe thead th {\n",
       "        text-align: right;\n",
       "    }\n",
       "</style>\n",
       "<table border=\"1\" class=\"dataframe\">\n",
       "  <thead>\n",
       "    <tr style=\"text-align: right;\">\n",
       "      <th></th>\n",
       "      <th>Brand</th>\n",
       "      <th>Capacity</th>\n",
       "      <th>Power</th>\n",
       "      <th>Price</th>\n",
       "      <th>Color</th>\n",
       "      <th>Battery_Type</th>\n",
       "      <th>Ratings</th>\n",
       "    </tr>\n",
       "  </thead>\n",
       "  <tbody>\n",
       "    <tr>\n",
       "      <th>0</th>\n",
       "      <td>Mi</td>\n",
       "      <td>10000.0</td>\n",
       "      <td>18.0</td>\n",
       "      <td>1249.0</td>\n",
       "      <td>BankBlue</td>\n",
       "      <td>Lithium Polymer</td>\n",
       "      <td>4.3</td>\n",
       "    </tr>\n",
       "    <tr>\n",
       "      <th>1</th>\n",
       "      <td>URBN</td>\n",
       "      <td>10000.0</td>\n",
       "      <td>12.0</td>\n",
       "      <td>899.0</td>\n",
       "      <td>NaN</td>\n",
       "      <td>Lithium Polymer</td>\n",
       "      <td>4.0</td>\n",
       "    </tr>\n",
       "    <tr>\n",
       "      <th>2</th>\n",
       "      <td>Mi</td>\n",
       "      <td>20000.0</td>\n",
       "      <td>18.0</td>\n",
       "      <td>1899.0</td>\n",
       "      <td>BankBlack</td>\n",
       "      <td>Lithium Polymer</td>\n",
       "      <td>4.3</td>\n",
       "    </tr>\n",
       "    <tr>\n",
       "      <th>3</th>\n",
       "      <td>boAt</td>\n",
       "      <td>20000.0</td>\n",
       "      <td>22.5</td>\n",
       "      <td>1499.0</td>\n",
       "      <td>BankBurgundy</td>\n",
       "      <td>Lithium Polymer</td>\n",
       "      <td>4.1</td>\n",
       "    </tr>\n",
       "    <tr>\n",
       "      <th>4</th>\n",
       "      <td>boAt</td>\n",
       "      <td>20000.0</td>\n",
       "      <td>22.5</td>\n",
       "      <td>1499.0</td>\n",
       "      <td>NaN</td>\n",
       "      <td>Lithium Polymer</td>\n",
       "      <td>4.1</td>\n",
       "    </tr>\n",
       "    <tr>\n",
       "      <th>...</th>\n",
       "      <td>...</td>\n",
       "      <td>...</td>\n",
       "      <td>...</td>\n",
       "      <td>...</td>\n",
       "      <td>...</td>\n",
       "      <td>...</td>\n",
       "      <td>...</td>\n",
       "    </tr>\n",
       "    <tr>\n",
       "      <th>995</th>\n",
       "      <td>misspro</td>\n",
       "      <td>10000.0</td>\n",
       "      <td>12.0</td>\n",
       "      <td>569.0</td>\n",
       "      <td>BankYellow</td>\n",
       "      <td>Lithium-ion</td>\n",
       "      <td>NaN</td>\n",
       "    </tr>\n",
       "    <tr>\n",
       "      <th>996</th>\n",
       "      <td>URBN</td>\n",
       "      <td>20000.0</td>\n",
       "      <td>22.5</td>\n",
       "      <td>1799.0</td>\n",
       "      <td>BankBlue</td>\n",
       "      <td>Lithium Polymer</td>\n",
       "      <td>4.5</td>\n",
       "    </tr>\n",
       "    <tr>\n",
       "      <th>997</th>\n",
       "      <td>REDMI</td>\n",
       "      <td>10000.0</td>\n",
       "      <td>10.0</td>\n",
       "      <td>1099.0</td>\n",
       "      <td>BankBlack</td>\n",
       "      <td>Lithium Polymer</td>\n",
       "      <td>4.2</td>\n",
       "    </tr>\n",
       "    <tr>\n",
       "      <th>998</th>\n",
       "      <td>reditor</td>\n",
       "      <td>30000.0</td>\n",
       "      <td>15.0</td>\n",
       "      <td>599.0</td>\n",
       "      <td>BankWhite</td>\n",
       "      <td>Lithium-ion</td>\n",
       "      <td>NaN</td>\n",
       "    </tr>\n",
       "    <tr>\n",
       "      <th>999</th>\n",
       "      <td>DG</td>\n",
       "      <td>45600.0</td>\n",
       "      <td>NaN</td>\n",
       "      <td>1479.0</td>\n",
       "      <td>BankBlack</td>\n",
       "      <td>Lithium Polymer</td>\n",
       "      <td>NaN</td>\n",
       "    </tr>\n",
       "  </tbody>\n",
       "</table>\n",
       "<p>1000 rows × 7 columns</p>\n",
       "</div>"
      ],
      "text/plain": [
       "       Brand  Capacity  Power   Price         Color     Battery_Type  Ratings\n",
       "0         Mi   10000.0   18.0  1249.0      BankBlue  Lithium Polymer      4.3\n",
       "1       URBN   10000.0   12.0   899.0           NaN  Lithium Polymer      4.0\n",
       "2         Mi   20000.0   18.0  1899.0     BankBlack  Lithium Polymer      4.3\n",
       "3       boAt   20000.0   22.5  1499.0  BankBurgundy  Lithium Polymer      4.1\n",
       "4       boAt   20000.0   22.5  1499.0           NaN  Lithium Polymer      4.1\n",
       "..       ...       ...    ...     ...           ...              ...      ...\n",
       "995  misspro   10000.0   12.0   569.0    BankYellow      Lithium-ion      NaN\n",
       "996     URBN   20000.0   22.5  1799.0      BankBlue  Lithium Polymer      4.5\n",
       "997    REDMI   10000.0   10.0  1099.0     BankBlack  Lithium Polymer      4.2\n",
       "998  reditor   30000.0   15.0   599.0     BankWhite      Lithium-ion      NaN\n",
       "999       DG   45600.0    NaN  1479.0     BankBlack  Lithium Polymer      NaN\n",
       "\n",
       "[1000 rows x 7 columns]"
      ]
     },
     "execution_count": 45,
     "metadata": {},
     "output_type": "execute_result"
    }
   ],
   "source": [
    "df1"
   ]
  },
  {
   "cell_type": "markdown",
   "id": "5fb641eb",
   "metadata": {},
   "source": [
    "# Data Cleaning"
   ]
  },
  {
   "cell_type": "markdown",
   "id": "c15c7135",
   "metadata": {},
   "source": [
    "## Type Casting"
   ]
  },
  {
   "cell_type": "code",
   "execution_count": 26,
   "id": "a8f34ef2",
   "metadata": {},
   "outputs": [
    {
     "data": {
      "text/plain": [
       "Brand            object\n",
       "Capacity        float64\n",
       "Power           float64\n",
       "Price           float64\n",
       "Color            object\n",
       "Battery_Type     object\n",
       "Ratings         float64\n",
       "dtype: object"
      ]
     },
     "execution_count": 26,
     "metadata": {},
     "output_type": "execute_result"
    }
   ],
   "source": [
    "df1.dtypes"
   ]
  },
  {
   "cell_type": "code",
   "execution_count": 22,
   "id": "533aa8eb",
   "metadata": {},
   "outputs": [
    {
     "data": {
      "text/plain": [
       "array([ 18. ,  12. ,  22.5,  25. ,  20. ,  23. ,  10. ,  33. ,  15. ,\n",
       "        22. ,  10.5,   nan,  65. ,  30. ,  14. ,  11. , 100. , 120. ,\n",
       "        13. ,  12.5,  74. ,  33.5,  20.5,  85. ,   2.5])"
      ]
     },
     "execution_count": 22,
     "metadata": {},
     "output_type": "execute_result"
    }
   ],
   "source": [
    "df1['Power'].unique()"
   ]
  },
  {
   "cell_type": "code",
   "execution_count": 27,
   "id": "413ca092",
   "metadata": {},
   "outputs": [],
   "source": [
    "df1['Power'] = df1['Power'].astype('float64')"
   ]
  },
  {
   "cell_type": "code",
   "execution_count": 32,
   "id": "45c7f3ab",
   "metadata": {},
   "outputs": [],
   "source": [
    "df1['Capacity'] = df1['Capacity'].astype('float64')"
   ]
  },
  {
   "cell_type": "code",
   "execution_count": 33,
   "id": "332e0366",
   "metadata": {},
   "outputs": [
    {
     "data": {
      "text/plain": [
       "Brand            object\n",
       "Capacity        float64\n",
       "Power           float64\n",
       "Price           float64\n",
       "Color            object\n",
       "Battery_Type     object\n",
       "Ratings         float64\n",
       "dtype: object"
      ]
     },
     "execution_count": 33,
     "metadata": {},
     "output_type": "execute_result"
    }
   ],
   "source": [
    "df1.dtypes"
   ]
  },
  {
   "cell_type": "markdown",
   "id": "8ea79460",
   "metadata": {},
   "source": [
    "## Missing values"
   ]
  },
  {
   "cell_type": "code",
   "execution_count": 34,
   "id": "8df952fd",
   "metadata": {},
   "outputs": [
    {
     "data": {
      "text/plain": [
       "Brand             0\n",
       "Capacity          3\n",
       "Power           137\n",
       "Price             5\n",
       "Color           199\n",
       "Battery_Type      4\n",
       "Ratings         379\n",
       "dtype: int64"
      ]
     },
     "execution_count": 34,
     "metadata": {},
     "output_type": "execute_result"
    }
   ],
   "source": [
    "df1.isna().sum()"
   ]
  },
  {
   "cell_type": "code",
   "execution_count": 35,
   "id": "871e13df",
   "metadata": {},
   "outputs": [
    {
     "data": {
      "text/plain": [
       "3"
      ]
     },
     "execution_count": 35,
     "metadata": {},
     "output_type": "execute_result"
    }
   ],
   "source": [
    "df1['Capacity'].isna().sum()"
   ]
  },
  {
   "cell_type": "code",
   "execution_count": 38,
   "id": "de29af43",
   "metadata": {},
   "outputs": [
    {
     "data": {
      "text/plain": [
       "0      10000.0\n",
       "1      10000.0\n",
       "2      20000.0\n",
       "3      20000.0\n",
       "4      20000.0\n",
       "        ...   \n",
       "995    10000.0\n",
       "996    20000.0\n",
       "997    10000.0\n",
       "998    30000.0\n",
       "999    45600.0\n",
       "Name: Capacity, Length: 1000, dtype: float64"
      ]
     },
     "execution_count": 38,
     "metadata": {},
     "output_type": "execute_result"
    }
   ],
   "source": [
    "df1['Capacity']"
   ]
  },
  {
   "cell_type": "code",
   "execution_count": 39,
   "id": "bef30bf8",
   "metadata": {},
   "outputs": [
    {
     "data": {
      "text/plain": [
       "19149.96990972919"
      ]
     },
     "execution_count": 39,
     "metadata": {},
     "output_type": "execute_result"
    }
   ],
   "source": [
    "df1['Capacity'].mean()"
   ]
  },
  {
   "cell_type": "code",
   "execution_count": 40,
   "id": "4edb6d27",
   "metadata": {},
   "outputs": [],
   "source": [
    "df1['Capacity'].fillna(df1['Capacity'].mean(),inplace=True)"
   ]
  },
  {
   "cell_type": "code",
   "execution_count": 42,
   "id": "dece85af",
   "metadata": {},
   "outputs": [
    {
     "data": {
      "text/plain": [
       "0"
      ]
     },
     "execution_count": 42,
     "metadata": {},
     "output_type": "execute_result"
    }
   ],
   "source": [
    "df1['Capacity'].isna().sum()"
   ]
  },
  {
   "cell_type": "code",
   "execution_count": 44,
   "id": "bb78eddd",
   "metadata": {},
   "outputs": [
    {
     "data": {
      "text/plain": [
       "137"
      ]
     },
     "execution_count": 44,
     "metadata": {},
     "output_type": "execute_result"
    }
   ],
   "source": [
    "df1['Power'].isna().sum()"
   ]
  },
  {
   "cell_type": "code",
   "execution_count": 47,
   "id": "bd029a11",
   "metadata": {},
   "outputs": [
    {
     "data": {
      "text/plain": [
       "18.23870220162225"
      ]
     },
     "execution_count": 47,
     "metadata": {},
     "output_type": "execute_result"
    }
   ],
   "source": [
    "df1['Power'].mean()"
   ]
  },
  {
   "cell_type": "code",
   "execution_count": 48,
   "id": "05c8cdf7",
   "metadata": {},
   "outputs": [],
   "source": [
    "df1['Power'].fillna(df1['Power'].mean(),inplace=True)"
   ]
  },
  {
   "cell_type": "code",
   "execution_count": 49,
   "id": "7bf6a441",
   "metadata": {},
   "outputs": [
    {
     "data": {
      "text/plain": [
       "0"
      ]
     },
     "execution_count": 49,
     "metadata": {},
     "output_type": "execute_result"
    }
   ],
   "source": [
    "df1['Power'].isna().sum()"
   ]
  },
  {
   "cell_type": "code",
   "execution_count": 50,
   "id": "caad38f4",
   "metadata": {},
   "outputs": [
    {
     "data": {
      "text/plain": [
       "5"
      ]
     },
     "execution_count": 50,
     "metadata": {},
     "output_type": "execute_result"
    }
   ],
   "source": [
    "df1['Price'].isna().sum()"
   ]
  },
  {
   "cell_type": "code",
   "execution_count": 52,
   "id": "502ca5d5",
   "metadata": {},
   "outputs": [
    {
     "data": {
      "text/plain": [
       "1360.8522613065327"
      ]
     },
     "execution_count": 52,
     "metadata": {},
     "output_type": "execute_result"
    }
   ],
   "source": [
    "df1['Price'].mean()"
   ]
  },
  {
   "cell_type": "code",
   "execution_count": 53,
   "id": "fd3c14b5",
   "metadata": {},
   "outputs": [],
   "source": [
    "df1['Price'].fillna(df1['Price'].mean(),inplace=True)"
   ]
  },
  {
   "cell_type": "code",
   "execution_count": 54,
   "id": "d67f8dc3",
   "metadata": {},
   "outputs": [
    {
     "data": {
      "text/plain": [
       "0"
      ]
     },
     "execution_count": 54,
     "metadata": {},
     "output_type": "execute_result"
    }
   ],
   "source": [
    "df1['Price'].isna().sum()"
   ]
  },
  {
   "cell_type": "code",
   "execution_count": 55,
   "id": "7653df42",
   "metadata": {},
   "outputs": [
    {
     "data": {
      "text/plain": [
       "199"
      ]
     },
     "execution_count": 55,
     "metadata": {},
     "output_type": "execute_result"
    }
   ],
   "source": [
    "df1['Color'].isna().sum()"
   ]
  },
  {
   "cell_type": "code",
   "execution_count": 56,
   "id": "f146e833",
   "metadata": {},
   "outputs": [
    {
     "data": {
      "text/plain": [
       "0    BankBlack\n",
       "Name: Color, dtype: object"
      ]
     },
     "execution_count": 56,
     "metadata": {},
     "output_type": "execute_result"
    }
   ],
   "source": [
    "df1['Color'].mode()"
   ]
  },
  {
   "cell_type": "code",
   "execution_count": 57,
   "id": "b30c785a",
   "metadata": {},
   "outputs": [],
   "source": [
    "df1['Color'].fillna(df1['Color'].mode()[0],inplace=True)"
   ]
  },
  {
   "cell_type": "code",
   "execution_count": 58,
   "id": "ba623bbf",
   "metadata": {},
   "outputs": [
    {
     "data": {
      "text/plain": [
       "0"
      ]
     },
     "execution_count": 58,
     "metadata": {},
     "output_type": "execute_result"
    }
   ],
   "source": [
    "df1['Color'].isna().sum()"
   ]
  },
  {
   "cell_type": "code",
   "execution_count": 59,
   "id": "b3edbcfa",
   "metadata": {},
   "outputs": [
    {
     "data": {
      "text/plain": [
       "4"
      ]
     },
     "execution_count": 59,
     "metadata": {},
     "output_type": "execute_result"
    }
   ],
   "source": [
    "df1['Battery_Type'].isna().sum()"
   ]
  },
  {
   "cell_type": "code",
   "execution_count": 60,
   "id": "81590762",
   "metadata": {},
   "outputs": [
    {
     "data": {
      "text/plain": [
       "0    Lithium Polymer\n",
       "Name: Battery_Type, dtype: object"
      ]
     },
     "execution_count": 60,
     "metadata": {},
     "output_type": "execute_result"
    }
   ],
   "source": [
    "df1['Battery_Type'].mode()"
   ]
  },
  {
   "cell_type": "code",
   "execution_count": 61,
   "id": "316852df",
   "metadata": {},
   "outputs": [],
   "source": [
    "df1['Battery_Type'].fillna(df1['Battery_Type'].mode()[0],inplace=True)"
   ]
  },
  {
   "cell_type": "code",
   "execution_count": 62,
   "id": "514f96f8",
   "metadata": {},
   "outputs": [
    {
     "data": {
      "text/plain": [
       "0"
      ]
     },
     "execution_count": 62,
     "metadata": {},
     "output_type": "execute_result"
    }
   ],
   "source": [
    "df1['Battery_Type'].isna().sum()"
   ]
  },
  {
   "cell_type": "code",
   "execution_count": 63,
   "id": "14d96c92",
   "metadata": {},
   "outputs": [
    {
     "data": {
      "text/plain": [
       "379"
      ]
     },
     "execution_count": 63,
     "metadata": {},
     "output_type": "execute_result"
    }
   ],
   "source": [
    "df1['Ratings'].isna().sum()"
   ]
  },
  {
   "cell_type": "code",
   "execution_count": 64,
   "id": "112226b1",
   "metadata": {},
   "outputs": [
    {
     "data": {
      "text/plain": [
       "4.0"
      ]
     },
     "execution_count": 64,
     "metadata": {},
     "output_type": "execute_result"
    }
   ],
   "source": [
    "df1['Ratings'].median()"
   ]
  },
  {
   "cell_type": "code",
   "execution_count": 65,
   "id": "0f48d6e2",
   "metadata": {},
   "outputs": [],
   "source": [
    "df1['Ratings'].fillna(df1['Ratings'].median(),inplace=True)"
   ]
  },
  {
   "cell_type": "code",
   "execution_count": 66,
   "id": "1ddd857d",
   "metadata": {},
   "outputs": [
    {
     "data": {
      "text/plain": [
       "0"
      ]
     },
     "execution_count": 66,
     "metadata": {},
     "output_type": "execute_result"
    }
   ],
   "source": [
    "df1['Ratings'].isna().sum()"
   ]
  },
  {
   "cell_type": "code",
   "execution_count": 70,
   "id": "4c5b286a",
   "metadata": {},
   "outputs": [
    {
     "data": {
      "text/plain": [
       "Brand           0\n",
       "Capacity        0\n",
       "Power           0\n",
       "Price           0\n",
       "Color           0\n",
       "Battery_Type    0\n",
       "Ratings         0\n",
       "dtype: int64"
      ]
     },
     "execution_count": 70,
     "metadata": {},
     "output_type": "execute_result"
    }
   ],
   "source": [
    "df1.isna().sum()"
   ]
  },
  {
   "cell_type": "code",
   "execution_count": 71,
   "id": "9f481951",
   "metadata": {},
   "outputs": [
    {
     "data": {
      "text/html": [
       "<div>\n",
       "<style scoped>\n",
       "    .dataframe tbody tr th:only-of-type {\n",
       "        vertical-align: middle;\n",
       "    }\n",
       "\n",
       "    .dataframe tbody tr th {\n",
       "        vertical-align: top;\n",
       "    }\n",
       "\n",
       "    .dataframe thead th {\n",
       "        text-align: right;\n",
       "    }\n",
       "</style>\n",
       "<table border=\"1\" class=\"dataframe\">\n",
       "  <thead>\n",
       "    <tr style=\"text-align: right;\">\n",
       "      <th></th>\n",
       "      <th>Brand</th>\n",
       "      <th>Capacity</th>\n",
       "      <th>Power</th>\n",
       "      <th>Price</th>\n",
       "      <th>Color</th>\n",
       "      <th>Battery_Type</th>\n",
       "      <th>Ratings</th>\n",
       "    </tr>\n",
       "  </thead>\n",
       "  <tbody>\n",
       "    <tr>\n",
       "      <th>0</th>\n",
       "      <td>Mi</td>\n",
       "      <td>10000.0</td>\n",
       "      <td>18.000000</td>\n",
       "      <td>1249.0</td>\n",
       "      <td>BankBlue</td>\n",
       "      <td>Lithium Polymer</td>\n",
       "      <td>4.3</td>\n",
       "    </tr>\n",
       "    <tr>\n",
       "      <th>1</th>\n",
       "      <td>URBN</td>\n",
       "      <td>10000.0</td>\n",
       "      <td>12.000000</td>\n",
       "      <td>899.0</td>\n",
       "      <td>BankBlack</td>\n",
       "      <td>Lithium Polymer</td>\n",
       "      <td>4.0</td>\n",
       "    </tr>\n",
       "    <tr>\n",
       "      <th>2</th>\n",
       "      <td>Mi</td>\n",
       "      <td>20000.0</td>\n",
       "      <td>18.000000</td>\n",
       "      <td>1899.0</td>\n",
       "      <td>BankBlack</td>\n",
       "      <td>Lithium Polymer</td>\n",
       "      <td>4.3</td>\n",
       "    </tr>\n",
       "    <tr>\n",
       "      <th>3</th>\n",
       "      <td>boAt</td>\n",
       "      <td>20000.0</td>\n",
       "      <td>22.500000</td>\n",
       "      <td>1499.0</td>\n",
       "      <td>BankBurgundy</td>\n",
       "      <td>Lithium Polymer</td>\n",
       "      <td>4.1</td>\n",
       "    </tr>\n",
       "    <tr>\n",
       "      <th>4</th>\n",
       "      <td>boAt</td>\n",
       "      <td>20000.0</td>\n",
       "      <td>22.500000</td>\n",
       "      <td>1499.0</td>\n",
       "      <td>BankBlack</td>\n",
       "      <td>Lithium Polymer</td>\n",
       "      <td>4.1</td>\n",
       "    </tr>\n",
       "    <tr>\n",
       "      <th>...</th>\n",
       "      <td>...</td>\n",
       "      <td>...</td>\n",
       "      <td>...</td>\n",
       "      <td>...</td>\n",
       "      <td>...</td>\n",
       "      <td>...</td>\n",
       "      <td>...</td>\n",
       "    </tr>\n",
       "    <tr>\n",
       "      <th>995</th>\n",
       "      <td>misspro</td>\n",
       "      <td>10000.0</td>\n",
       "      <td>12.000000</td>\n",
       "      <td>569.0</td>\n",
       "      <td>BankYellow</td>\n",
       "      <td>Lithium-ion</td>\n",
       "      <td>4.0</td>\n",
       "    </tr>\n",
       "    <tr>\n",
       "      <th>996</th>\n",
       "      <td>URBN</td>\n",
       "      <td>20000.0</td>\n",
       "      <td>22.500000</td>\n",
       "      <td>1799.0</td>\n",
       "      <td>BankBlue</td>\n",
       "      <td>Lithium Polymer</td>\n",
       "      <td>4.5</td>\n",
       "    </tr>\n",
       "    <tr>\n",
       "      <th>997</th>\n",
       "      <td>REDMI</td>\n",
       "      <td>10000.0</td>\n",
       "      <td>10.000000</td>\n",
       "      <td>1099.0</td>\n",
       "      <td>BankBlack</td>\n",
       "      <td>Lithium Polymer</td>\n",
       "      <td>4.2</td>\n",
       "    </tr>\n",
       "    <tr>\n",
       "      <th>998</th>\n",
       "      <td>reditor</td>\n",
       "      <td>30000.0</td>\n",
       "      <td>15.000000</td>\n",
       "      <td>599.0</td>\n",
       "      <td>BankWhite</td>\n",
       "      <td>Lithium-ion</td>\n",
       "      <td>4.0</td>\n",
       "    </tr>\n",
       "    <tr>\n",
       "      <th>999</th>\n",
       "      <td>DG</td>\n",
       "      <td>45600.0</td>\n",
       "      <td>18.238702</td>\n",
       "      <td>1479.0</td>\n",
       "      <td>BankBlack</td>\n",
       "      <td>Lithium Polymer</td>\n",
       "      <td>4.0</td>\n",
       "    </tr>\n",
       "  </tbody>\n",
       "</table>\n",
       "<p>1000 rows × 7 columns</p>\n",
       "</div>"
      ],
      "text/plain": [
       "       Brand  Capacity      Power   Price         Color     Battery_Type  \\\n",
       "0         Mi   10000.0  18.000000  1249.0      BankBlue  Lithium Polymer   \n",
       "1       URBN   10000.0  12.000000   899.0     BankBlack  Lithium Polymer   \n",
       "2         Mi   20000.0  18.000000  1899.0     BankBlack  Lithium Polymer   \n",
       "3       boAt   20000.0  22.500000  1499.0  BankBurgundy  Lithium Polymer   \n",
       "4       boAt   20000.0  22.500000  1499.0     BankBlack  Lithium Polymer   \n",
       "..       ...       ...        ...     ...           ...              ...   \n",
       "995  misspro   10000.0  12.000000   569.0    BankYellow      Lithium-ion   \n",
       "996     URBN   20000.0  22.500000  1799.0      BankBlue  Lithium Polymer   \n",
       "997    REDMI   10000.0  10.000000  1099.0     BankBlack  Lithium Polymer   \n",
       "998  reditor   30000.0  15.000000   599.0     BankWhite      Lithium-ion   \n",
       "999       DG   45600.0  18.238702  1479.0     BankBlack  Lithium Polymer   \n",
       "\n",
       "     Ratings  \n",
       "0        4.3  \n",
       "1        4.0  \n",
       "2        4.3  \n",
       "3        4.1  \n",
       "4        4.1  \n",
       "..       ...  \n",
       "995      4.0  \n",
       "996      4.5  \n",
       "997      4.2  \n",
       "998      4.0  \n",
       "999      4.0  \n",
       "\n",
       "[1000 rows x 7 columns]"
      ]
     },
     "execution_count": 71,
     "metadata": {},
     "output_type": "execute_result"
    }
   ],
   "source": [
    "df1"
   ]
  },
  {
   "cell_type": "markdown",
   "id": "521ca124",
   "metadata": {},
   "source": [
    "## Duplicated values"
   ]
  },
  {
   "cell_type": "code",
   "execution_count": 72,
   "id": "0fc0d5ec",
   "metadata": {},
   "outputs": [
    {
     "data": {
      "text/plain": [
       "509"
      ]
     },
     "execution_count": 72,
     "metadata": {},
     "output_type": "execute_result"
    }
   ],
   "source": [
    "df1.duplicated().sum()"
   ]
  },
  {
   "cell_type": "code",
   "execution_count": 73,
   "id": "844c9a20",
   "metadata": {},
   "outputs": [],
   "source": [
    "df1.drop_duplicates(keep='first',inplace=True,ignore_index=True)"
   ]
  },
  {
   "cell_type": "code",
   "execution_count": 74,
   "id": "c5c5d2c7",
   "metadata": {},
   "outputs": [
    {
     "data": {
      "text/plain": [
       "0"
      ]
     },
     "execution_count": 74,
     "metadata": {},
     "output_type": "execute_result"
    }
   ],
   "source": [
    "df1.duplicated().sum()"
   ]
  },
  {
   "cell_type": "code",
   "execution_count": 75,
   "id": "65a7dbf2",
   "metadata": {},
   "outputs": [
    {
     "data": {
      "text/html": [
       "<div>\n",
       "<style scoped>\n",
       "    .dataframe tbody tr th:only-of-type {\n",
       "        vertical-align: middle;\n",
       "    }\n",
       "\n",
       "    .dataframe tbody tr th {\n",
       "        vertical-align: top;\n",
       "    }\n",
       "\n",
       "    .dataframe thead th {\n",
       "        text-align: right;\n",
       "    }\n",
       "</style>\n",
       "<table border=\"1\" class=\"dataframe\">\n",
       "  <thead>\n",
       "    <tr style=\"text-align: right;\">\n",
       "      <th></th>\n",
       "      <th>Brand</th>\n",
       "      <th>Capacity</th>\n",
       "      <th>Power</th>\n",
       "      <th>Price</th>\n",
       "      <th>Color</th>\n",
       "      <th>Battery_Type</th>\n",
       "      <th>Ratings</th>\n",
       "    </tr>\n",
       "  </thead>\n",
       "  <tbody>\n",
       "    <tr>\n",
       "      <th>0</th>\n",
       "      <td>Mi</td>\n",
       "      <td>10000.0</td>\n",
       "      <td>18.000000</td>\n",
       "      <td>1249.0</td>\n",
       "      <td>BankBlue</td>\n",
       "      <td>Lithium Polymer</td>\n",
       "      <td>4.3</td>\n",
       "    </tr>\n",
       "    <tr>\n",
       "      <th>1</th>\n",
       "      <td>URBN</td>\n",
       "      <td>10000.0</td>\n",
       "      <td>12.000000</td>\n",
       "      <td>899.0</td>\n",
       "      <td>BankBlack</td>\n",
       "      <td>Lithium Polymer</td>\n",
       "      <td>4.0</td>\n",
       "    </tr>\n",
       "    <tr>\n",
       "      <th>2</th>\n",
       "      <td>Mi</td>\n",
       "      <td>20000.0</td>\n",
       "      <td>18.000000</td>\n",
       "      <td>1899.0</td>\n",
       "      <td>BankBlack</td>\n",
       "      <td>Lithium Polymer</td>\n",
       "      <td>4.3</td>\n",
       "    </tr>\n",
       "    <tr>\n",
       "      <th>3</th>\n",
       "      <td>boAt</td>\n",
       "      <td>20000.0</td>\n",
       "      <td>22.500000</td>\n",
       "      <td>1499.0</td>\n",
       "      <td>BankBurgundy</td>\n",
       "      <td>Lithium Polymer</td>\n",
       "      <td>4.1</td>\n",
       "    </tr>\n",
       "    <tr>\n",
       "      <th>4</th>\n",
       "      <td>boAt</td>\n",
       "      <td>20000.0</td>\n",
       "      <td>22.500000</td>\n",
       "      <td>1499.0</td>\n",
       "      <td>BankBlack</td>\n",
       "      <td>Lithium Polymer</td>\n",
       "      <td>4.1</td>\n",
       "    </tr>\n",
       "    <tr>\n",
       "      <th>...</th>\n",
       "      <td>...</td>\n",
       "      <td>...</td>\n",
       "      <td>...</td>\n",
       "      <td>...</td>\n",
       "      <td>...</td>\n",
       "      <td>...</td>\n",
       "      <td>...</td>\n",
       "    </tr>\n",
       "    <tr>\n",
       "      <th>486</th>\n",
       "      <td>zofia</td>\n",
       "      <td>30000.0</td>\n",
       "      <td>18.000000</td>\n",
       "      <td>599.0</td>\n",
       "      <td>BankBlue</td>\n",
       "      <td>Lithium-ion</td>\n",
       "      <td>4.0</td>\n",
       "    </tr>\n",
       "    <tr>\n",
       "      <th>487</th>\n",
       "      <td>Portronics</td>\n",
       "      <td>10000.0</td>\n",
       "      <td>22.500000</td>\n",
       "      <td>1449.0</td>\n",
       "      <td>BankWhite</td>\n",
       "      <td>Lithium-ion</td>\n",
       "      <td>4.1</td>\n",
       "    </tr>\n",
       "    <tr>\n",
       "      <th>488</th>\n",
       "      <td>ORENICS</td>\n",
       "      <td>33000.0</td>\n",
       "      <td>18.238702</td>\n",
       "      <td>449.0</td>\n",
       "      <td>BankGreen</td>\n",
       "      <td>Lithium-ion</td>\n",
       "      <td>3.2</td>\n",
       "    </tr>\n",
       "    <tr>\n",
       "      <th>489</th>\n",
       "      <td>DG</td>\n",
       "      <td>20000.0</td>\n",
       "      <td>18.000000</td>\n",
       "      <td>959.0</td>\n",
       "      <td>BankWhite</td>\n",
       "      <td>Lithium Polymer</td>\n",
       "      <td>4.0</td>\n",
       "    </tr>\n",
       "    <tr>\n",
       "      <th>490</th>\n",
       "      <td>DG</td>\n",
       "      <td>45600.0</td>\n",
       "      <td>18.238702</td>\n",
       "      <td>1479.0</td>\n",
       "      <td>BankBlack</td>\n",
       "      <td>Lithium Polymer</td>\n",
       "      <td>4.0</td>\n",
       "    </tr>\n",
       "  </tbody>\n",
       "</table>\n",
       "<p>491 rows × 7 columns</p>\n",
       "</div>"
      ],
      "text/plain": [
       "          Brand  Capacity      Power   Price         Color     Battery_Type  \\\n",
       "0            Mi   10000.0  18.000000  1249.0      BankBlue  Lithium Polymer   \n",
       "1          URBN   10000.0  12.000000   899.0     BankBlack  Lithium Polymer   \n",
       "2            Mi   20000.0  18.000000  1899.0     BankBlack  Lithium Polymer   \n",
       "3          boAt   20000.0  22.500000  1499.0  BankBurgundy  Lithium Polymer   \n",
       "4          boAt   20000.0  22.500000  1499.0     BankBlack  Lithium Polymer   \n",
       "..          ...       ...        ...     ...           ...              ...   \n",
       "486       zofia   30000.0  18.000000   599.0      BankBlue      Lithium-ion   \n",
       "487  Portronics   10000.0  22.500000  1449.0     BankWhite      Lithium-ion   \n",
       "488     ORENICS   33000.0  18.238702   449.0     BankGreen      Lithium-ion   \n",
       "489          DG   20000.0  18.000000   959.0     BankWhite  Lithium Polymer   \n",
       "490          DG   45600.0  18.238702  1479.0     BankBlack  Lithium Polymer   \n",
       "\n",
       "     Ratings  \n",
       "0        4.3  \n",
       "1        4.0  \n",
       "2        4.3  \n",
       "3        4.1  \n",
       "4        4.1  \n",
       "..       ...  \n",
       "486      4.0  \n",
       "487      4.1  \n",
       "488      3.2  \n",
       "489      4.0  \n",
       "490      4.0  \n",
       "\n",
       "[491 rows x 7 columns]"
      ]
     },
     "execution_count": 75,
     "metadata": {},
     "output_type": "execute_result"
    }
   ],
   "source": [
    "df1"
   ]
  },
  {
   "cell_type": "code",
   "execution_count": 94,
   "id": "efaa0e3e",
   "metadata": {},
   "outputs": [],
   "source": [
    "#df1['Ratings'] = df1['Ratings'].fillna(df1.groupby(\"Brand\")['Ratings'].transform(lambda x: x.fillna(x.mode())))"
   ]
  },
  {
   "cell_type": "markdown",
   "id": "05601679",
   "metadata": {},
   "source": [
    "## Outliers"
   ]
  },
  {
   "cell_type": "code",
   "execution_count": 76,
   "id": "61cd4899",
   "metadata": {},
   "outputs": [
    {
     "data": {
      "text/plain": [
       "<Axes: >"
      ]
     },
     "execution_count": 76,
     "metadata": {},
     "output_type": "execute_result"
    },
    {
     "data": {
      "image/png": "[encoded data removed]",
      "text/plain": [
       "<Figure size 640x480 with 2 Axes>"
      ]
     },
     "metadata": {},
     "output_type": "display_data"
    }
   ],
   "source": [
    "plt.subplot(1, 2, 1)\n",
    "df1['Capacity'].plot(kind = 'box')\n",
    "\n",
    "plt.subplot(1, 2, 2)\n",
    "df1['Power'].plot(kind = 'box')"
   ]
  },
  {
   "cell_type": "raw",
   "id": "77745036",
   "metadata": {},
   "source": [
    "* Capacity more than 65000 mAh are considered as outliers\n",
    "* Power more than 30W are considered as ouliers"
   ]
  },
  {
   "cell_type": "code",
   "execution_count": 77,
   "id": "33cac4a3",
   "metadata": {},
   "outputs": [
    {
     "data": {
      "text/plain": [
       "<Axes: >"
      ]
     },
     "execution_count": 77,
     "metadata": {},
     "output_type": "execute_result"
    },
    {
     "data": {
      "image/png": "[encoded data removed]",
      "text/plain": [
       "<Figure size 640x480 with 2 Axes>"
      ]
     },
     "metadata": {},
     "output_type": "display_data"
    }
   ],
   "source": [
    "plt.subplot(1, 2, 1)\n",
    "df1['Price'].plot(kind = 'box')\n",
    "\n",
    "plt.subplot(1, 2, 2)\n",
    "df1['Ratings'].plot(kind = 'box')"
   ]
  },
  {
   "cell_type": "markdown",
   "id": "b7ca7c55",
   "metadata": {},
   "source": [
    "## Noisy Data"
   ]
  },
  {
   "cell_type": "code",
   "execution_count": 78,
   "id": "05d51ddc",
   "metadata": {},
   "outputs": [
    {
     "data": {
      "text/plain": [
       "Index(['Brand', 'Capacity', 'Power', 'Price', 'Color', 'Battery_Type',\n",
       "       'Ratings'],\n",
       "      dtype='object')"
      ]
     },
     "execution_count": 78,
     "metadata": {},
     "output_type": "execute_result"
    }
   ],
   "source": [
    "df1.columns"
   ]
  },
  {
   "cell_type": "code",
   "execution_count": 79,
   "id": "2ed8355e",
   "metadata": {},
   "outputs": [
    {
     "data": {
      "text/plain": [
       "array(['Mi', 'URBN', 'boAt', 'ORAIMO', 'SAMSUNG', 'Ambrane', 'Lifelong',\n",
       "       'WINgFI', 'DURACELL', 'Callmate', 'REDMI', 'DR', 'realme', 'Intex',\n",
       "       'Flipkart', 'Spigen', 'ZEBRONICS', 'PTron', 'Ipro', 'Rock', 'FliX',\n",
       "       'Portronics', 'Belkin', 'Syska', 'PHILIPS', 'uomi', 'Anker',\n",
       "       'PunnkFunnk', 'Iqoniqe', 'UnV', 'sykz', 'Binori', 'BELKIN',\n",
       "       'AMYTEL', 'MI', 'Qubo', 'STUFFCOOL', 'URBAN', 'MIMO', 'reditor',\n",
       "       'misspro', 'zofia', 'Cellecor', 'GUG', 'Ultraprolink', 'MIOX',\n",
       "       'delphine', 'Unix', 'ELIIDE', 'senerathe', 'X88', 'True',\n",
       "       'ORENICS', 'DG', 'BELL', 'conekt', 'RPMSD', 'WebMedia', 'SKYWATER',\n",
       "       'FIGER', 'akvaari', 'powerup', 'PHONOKART', 'Toreto', 'Vwalk',\n",
       "       'Muvit', 'ERD', 'Tekk', 'MEGABAR', 'itel', 'AXL', 'vismac',\n",
       "       'Rasta', 'Videocon', 'Hamine', 'Runixx', 'Maxclass', 'Gizmore',\n",
       "       'Obin', 'MAK', 'Frontech', 'MARS', 'Freak', '9Ways', 'DUDAO',\n",
       "       'FluSun', 'ModishOmbre', 'Apple', 'HOBINS', 'slainte', 'RR',\n",
       "       'Enter', 'MuvTech'], dtype=object)"
      ]
     },
     "execution_count": 79,
     "metadata": {},
     "output_type": "execute_result"
    }
   ],
   "source": [
    "df1['Brand'].unique()"
   ]
  },
  {
   "cell_type": "code",
   "execution_count": 80,
   "id": "af12d99e",
   "metadata": {},
   "outputs": [
    {
     "data": {
      "text/plain": [
       "array([1.00000000e+04, 2.00000000e+04, 2.70000000e+04, 6.00000000e+04,\n",
       "       3.00000000e+04, 2.08000000e+04, 1.30000000e+04, 1.91499699e+04,\n",
       "       5.00000000e+04, 6.50000000e+04, 4.20000000e+04, 2.60000000e+03,\n",
       "       3.50000000e+04, 5.00000000e+03, 3.20000000e+04, 4.50000000e+04,\n",
       "       4.10000000e+04, 2.25000000e+04, 2.50000000e+04, 4.00000000e+04,\n",
       "       3.30000000e+04, 5.50000000e+04, 1.00000000e+05, 7.20000000e+03,\n",
       "       2.40000000e+04, 7.80000000e+03, 3.25000000e+04, 4.24000000e+04,\n",
       "       2.68000000e+04, 1.50000000e+04, 4.80000000e+04, 4.63000000e+04,\n",
       "       4.43000000e+04, 5.47000000e+04, 2.42000000e+04, 3.75000000e+04,\n",
       "       4.83000000e+04, 4.33000000e+04, 5.40000000e+04, 1.85000000e+04,\n",
       "       2.24000000e+04, 2.54000000e+04, 4.70000000e+04, 3.47000000e+04,\n",
       "       2.03000000e+04, 4.90000000e+04, 3.83000000e+04, 2.58000000e+04,\n",
       "       4.28000000e+04, 4.60000000e+04, 4.64000000e+04, 2.20000000e+04,\n",
       "       2.46000000e+04, 5.21000000e+04, 5.37000000e+04, 2.90000000e+04,\n",
       "       5.32000000e+04, 2.34000000e+04, 4.66000000e+04, 4.45000000e+04,\n",
       "       1.20000000e+04, 4.30000000e+04, 2.93000000e+04, 4.22000000e+04,\n",
       "       3.68000000e+04, 3.85000000e+04, 3.62000000e+04, 4.75000000e+04,\n",
       "       1.95000000e+04, 2.26000000e+04, 2.10000000e+04, 3.69000000e+04,\n",
       "       2.72000000e+04, 2.64000000e+04, 4.71000000e+04, 2.95000000e+04,\n",
       "       8.00000000e+03, 2.00000000e+01, 2.60000000e+04, 2.80000000e+04,\n",
       "       3.05000000e+04, 2.33000000e+04, 5.35000000e+04, 4.65000000e+04,\n",
       "       1.20000000e+03, 4.13000000e+04, 2.14000000e+04, 3.86000000e+04,\n",
       "       4.56000000e+04])"
      ]
     },
     "execution_count": 80,
     "metadata": {},
     "output_type": "execute_result"
    }
   ],
   "source": [
    "df1['Capacity'].unique()"
   ]
  },
  {
   "cell_type": "code",
   "execution_count": 81,
   "id": "8a37de91",
   "metadata": {},
   "outputs": [
    {
     "data": {
      "text/plain": [
       "array([ 18.       ,  12.       ,  22.5      ,  25.       ,  20.       ,\n",
       "        23.       ,  10.       ,  33.       ,  15.       ,  22.       ,\n",
       "        10.5      ,  18.2387022,  65.       ,  30.       ,  14.       ,\n",
       "        11.       , 100.       , 120.       ,  13.       ,  12.5      ,\n",
       "        74.       ,  33.5      ,  20.5      ,  85.       ,   2.5      ])"
      ]
     },
     "execution_count": 81,
     "metadata": {},
     "output_type": "execute_result"
    }
   ],
   "source": [
    "df1['Power'].unique()"
   ]
  },
  {
   "cell_type": "code",
   "execution_count": 82,
   "id": "c5a61d65",
   "metadata": {},
   "outputs": [
    {
     "data": {
      "text/plain": [
       "array([ 1249.        ,   899.        ,  1899.        ,  1499.        ,\n",
       "         599.        ,  1999.        ,  2299.        ,  1799.        ,\n",
       "         699.        ,  1599.        ,   799.        ,  1199.        ,\n",
       "        1299.        ,   999.        ,  3099.        ,  3599.        ,\n",
       "        1099.        ,  1329.        ,  2999.        ,  2499.        ,\n",
       "        3299.        ,  1175.        ,  1360.85226131,  1026.        ,\n",
       "         655.        ,  1849.        ,   849.        ,  2196.        ,\n",
       "        1349.        ,  4299.        ,   729.        ,  2149.        ,\n",
       "         499.        ,  2199.        ,  2599.        ,   598.        ,\n",
       "         326.        ,   664.        ,  1489.        ,   539.        ,\n",
       "         629.        ,   399.        ,  3999.        ,  4999.        ,\n",
       "        1958.        ,   677.        ,   854.        ,   649.        ,\n",
       "         658.        ,   989.        ,   569.        ,   898.        ,\n",
       "         477.        ,   752.        ,   498.        ,   991.        ,\n",
       "        1295.        ,   626.        ,  1900.        ,   495.        ,\n",
       "        1698.        ,  1399.        ,  1149.        ,   563.        ,\n",
       "         489.        ,   846.        ,   449.        ,  2699.        ,\n",
       "         829.        ,   486.        ,   605.        ,  1274.        ,\n",
       "        2804.        ,   459.        ,   479.        ,   891.        ,\n",
       "        1459.        ,  4199.        ,  1394.        ,   949.        ,\n",
       "        5699.        ,   485.        ,  1181.        ,  1485.        ,\n",
       "        1869.        ,  5499.        ,  3699.        ,  2449.        ,\n",
       "        6599.        , 12999.        ,  1529.        ,   522.        ,\n",
       "        3998.        ,   698.        ,  3149.        ,   789.        ,\n",
       "        1114.        ,   783.        ,  2399.        ,  7999.        ,\n",
       "        1439.        ,  1649.        ,   488.        ,   779.        ,\n",
       "        1449.        ,  1756.        ,   845.        ,  3807.        ,\n",
       "         471.        ,   855.        ,   979.        ,  1469.        ,\n",
       "        5999.        ,   809.        ,   974.        ,   969.        ,\n",
       "        1840.        ,   549.        ,   465.        ,   850.        ,\n",
       "        1179.        ,  1234.        ,  1389.        ,  1360.        ,\n",
       "         959.        ,  2659.        ,  1949.        ,   990.        ,\n",
       "         595.        ,  1605.        ,  1593.        ,  2249.        ,\n",
       "        3799.        ,   679.        ,  1610.        ,  2099.        ,\n",
       "         819.        ,  1699.        ,  1479.        ])"
      ]
     },
     "execution_count": 82,
     "metadata": {},
     "output_type": "execute_result"
    }
   ],
   "source": [
    "df1['Price'].unique()"
   ]
  },
  {
   "cell_type": "code",
   "execution_count": 83,
   "id": "42de7285",
   "metadata": {},
   "outputs": [
    {
     "data": {
      "text/plain": [
       "array(['BankBlue', 'BankBlack', 'BankBurgundy', 'BankBeige', 'BankCamo',\n",
       "       'BankWhite', 'BankMulticolor', 'BankTransparent', 'BankYellow',\n",
       "       'BankGreen', 'BankRed', 'BankMaroon', 'BankPurple', 'BankOrange',\n",
       "       'BankGrey', 'BankPink', 'Bank', 'bank', 'BankBrown',\n",
       "       'BankASSORTED', 'BankSilver', 'Bankback'], dtype=object)"
      ]
     },
     "execution_count": 83,
     "metadata": {},
     "output_type": "execute_result"
    }
   ],
   "source": [
    "df1['Color'].unique()"
   ]
  },
  {
   "cell_type": "code",
   "execution_count": 84,
   "id": "1fa421c3",
   "metadata": {},
   "outputs": [
    {
     "data": {
      "text/plain": [
       "array(['Lithium Polymer', 'Lithium-ion'], dtype=object)"
      ]
     },
     "execution_count": 84,
     "metadata": {},
     "output_type": "execute_result"
    }
   ],
   "source": [
    "df1['Battery_Type'].unique()"
   ]
  },
  {
   "cell_type": "code",
   "execution_count": 85,
   "id": "fdd768fe",
   "metadata": {},
   "outputs": [
    {
     "data": {
      "text/plain": [
       "array([4.3, 4. , 4.1, 4.2, 4.5, 3.6, 3.8, 4.4, 4.9, 3.7, 4.6, 3.9, 3.3,\n",
       "       4.7, 3.2, 4.8, 3.5, 3. , 3.4, 3.1, 5. , 2.9, 2.5])"
      ]
     },
     "execution_count": 85,
     "metadata": {},
     "output_type": "execute_result"
    }
   ],
   "source": [
    "df1['Ratings'].unique()"
   ]
  },
  {
   "cell_type": "code",
   "execution_count": 86,
   "id": "5d51f1ee",
   "metadata": {},
   "outputs": [
    {
     "data": {
      "text/html": [
       "<div>\n",
       "<style scoped>\n",
       "    .dataframe tbody tr th:only-of-type {\n",
       "        vertical-align: middle;\n",
       "    }\n",
       "\n",
       "    .dataframe tbody tr th {\n",
       "        vertical-align: top;\n",
       "    }\n",
       "\n",
       "    .dataframe thead th {\n",
       "        text-align: right;\n",
       "    }\n",
       "</style>\n",
       "<table border=\"1\" class=\"dataframe\">\n",
       "  <thead>\n",
       "    <tr style=\"text-align: right;\">\n",
       "      <th></th>\n",
       "      <th>Brand</th>\n",
       "      <th>Capacity</th>\n",
       "      <th>Power</th>\n",
       "      <th>Price</th>\n",
       "      <th>Color</th>\n",
       "      <th>Battery_Type</th>\n",
       "      <th>Ratings</th>\n",
       "    </tr>\n",
       "  </thead>\n",
       "  <tbody>\n",
       "    <tr>\n",
       "      <th>0</th>\n",
       "      <td>Mi</td>\n",
       "      <td>10000.0</td>\n",
       "      <td>18.000000</td>\n",
       "      <td>1249.0</td>\n",
       "      <td>BankBlue</td>\n",
       "      <td>Lithium Polymer</td>\n",
       "      <td>4.3</td>\n",
       "    </tr>\n",
       "    <tr>\n",
       "      <th>1</th>\n",
       "      <td>URBN</td>\n",
       "      <td>10000.0</td>\n",
       "      <td>12.000000</td>\n",
       "      <td>899.0</td>\n",
       "      <td>BankBlack</td>\n",
       "      <td>Lithium Polymer</td>\n",
       "      <td>4.0</td>\n",
       "    </tr>\n",
       "    <tr>\n",
       "      <th>2</th>\n",
       "      <td>Mi</td>\n",
       "      <td>20000.0</td>\n",
       "      <td>18.000000</td>\n",
       "      <td>1899.0</td>\n",
       "      <td>BankBlack</td>\n",
       "      <td>Lithium Polymer</td>\n",
       "      <td>4.3</td>\n",
       "    </tr>\n",
       "    <tr>\n",
       "      <th>3</th>\n",
       "      <td>boAt</td>\n",
       "      <td>20000.0</td>\n",
       "      <td>22.500000</td>\n",
       "      <td>1499.0</td>\n",
       "      <td>BankBurgundy</td>\n",
       "      <td>Lithium Polymer</td>\n",
       "      <td>4.1</td>\n",
       "    </tr>\n",
       "    <tr>\n",
       "      <th>4</th>\n",
       "      <td>boAt</td>\n",
       "      <td>20000.0</td>\n",
       "      <td>22.500000</td>\n",
       "      <td>1499.0</td>\n",
       "      <td>BankBlack</td>\n",
       "      <td>Lithium Polymer</td>\n",
       "      <td>4.1</td>\n",
       "    </tr>\n",
       "    <tr>\n",
       "      <th>...</th>\n",
       "      <td>...</td>\n",
       "      <td>...</td>\n",
       "      <td>...</td>\n",
       "      <td>...</td>\n",
       "      <td>...</td>\n",
       "      <td>...</td>\n",
       "      <td>...</td>\n",
       "    </tr>\n",
       "    <tr>\n",
       "      <th>486</th>\n",
       "      <td>zofia</td>\n",
       "      <td>30000.0</td>\n",
       "      <td>18.000000</td>\n",
       "      <td>599.0</td>\n",
       "      <td>BankBlue</td>\n",
       "      <td>Lithium-ion</td>\n",
       "      <td>4.0</td>\n",
       "    </tr>\n",
       "    <tr>\n",
       "      <th>487</th>\n",
       "      <td>Portronics</td>\n",
       "      <td>10000.0</td>\n",
       "      <td>22.500000</td>\n",
       "      <td>1449.0</td>\n",
       "      <td>BankWhite</td>\n",
       "      <td>Lithium-ion</td>\n",
       "      <td>4.1</td>\n",
       "    </tr>\n",
       "    <tr>\n",
       "      <th>488</th>\n",
       "      <td>ORENICS</td>\n",
       "      <td>33000.0</td>\n",
       "      <td>18.238702</td>\n",
       "      <td>449.0</td>\n",
       "      <td>BankGreen</td>\n",
       "      <td>Lithium-ion</td>\n",
       "      <td>3.2</td>\n",
       "    </tr>\n",
       "    <tr>\n",
       "      <th>489</th>\n",
       "      <td>DG</td>\n",
       "      <td>20000.0</td>\n",
       "      <td>18.000000</td>\n",
       "      <td>959.0</td>\n",
       "      <td>BankWhite</td>\n",
       "      <td>Lithium Polymer</td>\n",
       "      <td>4.0</td>\n",
       "    </tr>\n",
       "    <tr>\n",
       "      <th>490</th>\n",
       "      <td>DG</td>\n",
       "      <td>45600.0</td>\n",
       "      <td>18.238702</td>\n",
       "      <td>1479.0</td>\n",
       "      <td>BankBlack</td>\n",
       "      <td>Lithium Polymer</td>\n",
       "      <td>4.0</td>\n",
       "    </tr>\n",
       "  </tbody>\n",
       "</table>\n",
       "<p>491 rows × 7 columns</p>\n",
       "</div>"
      ],
      "text/plain": [
       "          Brand  Capacity      Power   Price         Color     Battery_Type  \\\n",
       "0            Mi   10000.0  18.000000  1249.0      BankBlue  Lithium Polymer   \n",
       "1          URBN   10000.0  12.000000   899.0     BankBlack  Lithium Polymer   \n",
       "2            Mi   20000.0  18.000000  1899.0     BankBlack  Lithium Polymer   \n",
       "3          boAt   20000.0  22.500000  1499.0  BankBurgundy  Lithium Polymer   \n",
       "4          boAt   20000.0  22.500000  1499.0     BankBlack  Lithium Polymer   \n",
       "..          ...       ...        ...     ...           ...              ...   \n",
       "486       zofia   30000.0  18.000000   599.0      BankBlue      Lithium-ion   \n",
       "487  Portronics   10000.0  22.500000  1449.0     BankWhite      Lithium-ion   \n",
       "488     ORENICS   33000.0  18.238702   449.0     BankGreen      Lithium-ion   \n",
       "489          DG   20000.0  18.000000   959.0     BankWhite  Lithium Polymer   \n",
       "490          DG   45600.0  18.238702  1479.0     BankBlack  Lithium Polymer   \n",
       "\n",
       "     Ratings  \n",
       "0        4.3  \n",
       "1        4.0  \n",
       "2        4.3  \n",
       "3        4.1  \n",
       "4        4.1  \n",
       "..       ...  \n",
       "486      4.0  \n",
       "487      4.1  \n",
       "488      3.2  \n",
       "489      4.0  \n",
       "490      4.0  \n",
       "\n",
       "[491 rows x 7 columns]"
      ]
     },
     "execution_count": 86,
     "metadata": {},
     "output_type": "execute_result"
    }
   ],
   "source": [
    "df1"
   ]
  },
  {
   "cell_type": "markdown",
   "id": "205a3e7e",
   "metadata": {},
   "source": [
    "## Data Visualization"
   ]
  },
  {
   "cell_type": "markdown",
   "id": "0ec3e5c1",
   "metadata": {},
   "source": [
    "## UNI-Variate"
   ]
  },
  {
   "cell_type": "code",
   "execution_count": 87,
   "id": "f26215a4",
   "metadata": {},
   "outputs": [],
   "source": [
    "import matplotlib.pyplot as plt"
   ]
  },
  {
   "cell_type": "code",
   "execution_count": 96,
   "id": "a5d9bbf3",
   "metadata": {},
   "outputs": [
    {
     "data": {
      "image/png": "[encoded data removed]",
      "text/plain": [
       "<Figure size 640x480 with 1 Axes>"
      ]
     },
     "metadata": {},
     "output_type": "display_data"
    }
   ],
   "source": [
    "#plt.figure(figsize = (4,3))\n",
    "plt.hist(df1['Price'],bins=10)\n",
    "plt.xlabel('Price')\n",
    "plt.ylabel('Frequency')\n",
    "plt.title('Histogram of Price')\n",
    "plt.show()"
   ]
  },
  {
   "cell_type": "raw",
   "id": "1a18741b",
   "metadata": {},
   "source": [
    "Insights:\n",
    "Highest price is arround 13000\n",
    "Most of the prices are lies in between (500 - 1500) nearly 370\n",
    "There are no prices in between (6500 - 8000) and (9000 - 11500)"
   ]
  },
  {
   "cell_type": "code",
   "execution_count": 97,
   "id": "7240c1ad",
   "metadata": {},
   "outputs": [],
   "source": [
    "#plt.figure(figsize = (4,3))\n",
    "#plt.hist(df1['Ratings'])\n",
    "#plt.xlabel('Ratings')\n",
    "#plt.ylabel('Frequency')\n",
    "#plt.title('Histogram of Ratings')\n",
    "#plt.show()"
   ]
  },
  {
   "cell_type": "code",
   "execution_count": 99,
   "id": "4e19a090",
   "metadata": {},
   "outputs": [
    {
     "data": {
      "image/png": "[encoded data removed]",
      "text/plain": [
       "<Figure size 640x480 with 1 Axes>"
      ]
     },
     "metadata": {},
     "output_type": "display_data"
    }
   ],
   "source": [
    "#plt.figure(figsize = (4,3))\n",
    "plt.hist(df1['Capacity'],bins=15)\n",
    "plt.xlabel('Capacity')\n",
    "plt.ylabel('Frequency')\n",
    "plt.title('Histogram of Capacity')\n",
    "plt.show()"
   ]
  },
  {
   "cell_type": "raw",
   "id": "4e13ccdc",
   "metadata": {},
   "source": [
    "Insights:\n",
    "Most of the capacity is lies in between (5000mAh - 15000mAh)\n",
    "Highest capacity is arround 95000 mAh\n"
   ]
  },
  {
   "cell_type": "code",
   "execution_count": 102,
   "id": "7850734b",
   "metadata": {},
   "outputs": [
    {
     "data": {
      "image/png": "[encoded data removed]",
      "text/plain": [
       "<Figure size 640x480 with 1 Axes>"
      ]
     },
     "metadata": {},
     "output_type": "display_data"
    }
   ],
   "source": [
    "#plt.figure(figsize = (4,3))\n",
    "plt.hist(df1['Power'],bins=25,color=\"green\")\n",
    "plt.xlabel('Power')\n",
    "plt.ylabel('Frequency')\n",
    "plt.title('Histogram of Power')\n",
    "plt.show()"
   ]
  },
  {
   "cell_type": "raw",
   "id": "d4526913",
   "metadata": {},
   "source": [
    "insights:\n",
    "Most of the power is lies in between 18W - 20W, arround 230\n",
    "There are no powerbanks having power in between 35W - 60W\n",
    "There is one powerbank having power arround 118W\n"
   ]
  },
  {
   "cell_type": "code",
   "execution_count": 222,
   "id": "ee447a65",
   "metadata": {},
   "outputs": [],
   "source": [
    "import seaborn as sns"
   ]
  },
  {
   "cell_type": "markdown",
   "id": "aa723d9a",
   "metadata": {},
   "source": [
    "## Bar Plot"
   ]
  },
  {
   "cell_type": "code",
   "execution_count": 110,
   "id": "1826c33e",
   "metadata": {},
   "outputs": [
    {
     "data": {
      "text/plain": [
       "93"
      ]
     },
     "execution_count": 110,
     "metadata": {},
     "output_type": "execute_result"
    }
   ],
   "source": [
    "df1['Brand'].nunique()"
   ]
  },
  {
   "cell_type": "code",
   "execution_count": 105,
   "id": "aef34802",
   "metadata": {},
   "outputs": [
    {
     "data": {
      "text/plain": [
       "<Axes: xlabel='Brand'>"
      ]
     },
     "execution_count": 105,
     "metadata": {},
     "output_type": "execute_result"
    },
    {
     "data": {
      "image/png": "[encoded data removed]",
      "text/plain": [
       "<Figure size 640x480 with 1 Axes>"
      ]
     },
     "metadata": {},
     "output_type": "display_data"
    }
   ],
   "source": [
    "df1['Brand'].value_counts().head(20).plot(kind='bar')"
   ]
  },
  {
   "cell_type": "raw",
   "id": "ab113aa4",
   "metadata": {},
   "source": [
    "Insights:\n",
    "Highest number are from DG brand\n",
    "Total 93 brands products are available \n"
   ]
  },
  {
   "cell_type": "markdown",
   "id": "a2ceaea9",
   "metadata": {},
   "source": [
    "## pie Chart"
   ]
  },
  {
   "cell_type": "code",
   "execution_count": 106,
   "id": "a11fe119",
   "metadata": {},
   "outputs": [],
   "source": [
    "#plt.pie(df1['Brand'].value_counts(),labels = df1['Brand'].unique(),autopct = '%.2f')\n",
    "plt.show()"
   ]
  },
  {
   "cell_type": "code",
   "execution_count": 115,
   "id": "b45109a9",
   "metadata": {},
   "outputs": [
    {
     "data": {
      "image/png": "[encoded data removed]",
      "text/plain": [
       "<Figure size 640x480 with 1 Axes>"
      ]
     },
     "metadata": {},
     "output_type": "display_data"
    }
   ],
   "source": [
    "plt.pie(df1['Battery_Type'].value_counts(),labels = df1['Battery_Type'].unique(),autopct = '%.2f')\n",
    "plt.show()"
   ]
  },
  {
   "cell_type": "markdown",
   "id": "a0ad9fa1",
   "metadata": {},
   "source": [
    "# Bi-Variate"
   ]
  },
  {
   "cell_type": "markdown",
   "id": "e35da7c2",
   "metadata": {},
   "source": [
    "## Scatter Plot"
   ]
  },
  {
   "cell_type": "code",
   "execution_count": 116,
   "id": "7e6843fb",
   "metadata": {},
   "outputs": [
    {
     "data": {
      "text/plain": [
       "<Axes: xlabel='Capacity', ylabel='Price'>"
      ]
     },
     "execution_count": 116,
     "metadata": {},
     "output_type": "execute_result"
    },
    {
     "data": {
      "image/png": "[encoded data removed]",
      "text/plain": [
       "<Figure size 1000x500 with 2 Axes>"
      ]
     },
     "metadata": {},
     "output_type": "display_data"
    }
   ],
   "source": [
    "plt.figure(figsize =(10,5))\n",
    "plt.subplot(1,2,1)\n",
    "sns.scatterplot(data = df1,x = 'Power',y = 'Price')\n",
    "plt.subplot(1,2,2)\n",
    "sns.scatterplot(data = df1,x = 'Capacity',y = 'Price')"
   ]
  },
  {
   "cell_type": "code",
   "execution_count": 117,
   "id": "e37cb1ee",
   "metadata": {},
   "outputs": [
    {
     "data": {
      "text/plain": [
       "<Axes: xlabel='Ratings', ylabel='Price'>"
      ]
     },
     "execution_count": 117,
     "metadata": {},
     "output_type": "execute_result"
    },
    {
     "data": {
      "image/png": "[encoded data removed]",
      "text/plain": [
       "<Figure size 640x480 with 1 Axes>"
      ]
     },
     "metadata": {},
     "output_type": "display_data"
    }
   ],
   "source": [
    "sns.scatterplot(data = df1,x = 'Ratings',y = 'Price')"
   ]
  },
  {
   "cell_type": "markdown",
   "id": "924a723c",
   "metadata": {},
   "source": [
    "## Bar Chart"
   ]
  },
  {
   "cell_type": "code",
   "execution_count": 124,
   "id": "79132e05",
   "metadata": {},
   "outputs": [],
   "source": [
    "df1['Category']= np.nan"
   ]
  },
  {
   "cell_type": "code",
   "execution_count": 125,
   "id": "5917d3dc",
   "metadata": {},
   "outputs": [
    {
     "data": {
      "text/html": [
       "<div>\n",
       "<style scoped>\n",
       "    .dataframe tbody tr th:only-of-type {\n",
       "        vertical-align: middle;\n",
       "    }\n",
       "\n",
       "    .dataframe tbody tr th {\n",
       "        vertical-align: top;\n",
       "    }\n",
       "\n",
       "    .dataframe thead th {\n",
       "        text-align: right;\n",
       "    }\n",
       "</style>\n",
       "<table border=\"1\" class=\"dataframe\">\n",
       "  <thead>\n",
       "    <tr style=\"text-align: right;\">\n",
       "      <th></th>\n",
       "      <th>Brand</th>\n",
       "      <th>Capacity</th>\n",
       "      <th>Power</th>\n",
       "      <th>Price</th>\n",
       "      <th>Color</th>\n",
       "      <th>Battery_Type</th>\n",
       "      <th>Ratings</th>\n",
       "      <th>Category</th>\n",
       "    </tr>\n",
       "  </thead>\n",
       "  <tbody>\n",
       "    <tr>\n",
       "      <th>0</th>\n",
       "      <td>Mi</td>\n",
       "      <td>10000.0</td>\n",
       "      <td>18.000000</td>\n",
       "      <td>1249.0</td>\n",
       "      <td>BankBlue</td>\n",
       "      <td>Lithium Polymer</td>\n",
       "      <td>4.3</td>\n",
       "      <td>NaN</td>\n",
       "    </tr>\n",
       "    <tr>\n",
       "      <th>1</th>\n",
       "      <td>URBN</td>\n",
       "      <td>10000.0</td>\n",
       "      <td>12.000000</td>\n",
       "      <td>899.0</td>\n",
       "      <td>BankBlack</td>\n",
       "      <td>Lithium Polymer</td>\n",
       "      <td>4.0</td>\n",
       "      <td>NaN</td>\n",
       "    </tr>\n",
       "    <tr>\n",
       "      <th>2</th>\n",
       "      <td>Mi</td>\n",
       "      <td>20000.0</td>\n",
       "      <td>18.000000</td>\n",
       "      <td>1899.0</td>\n",
       "      <td>BankBlack</td>\n",
       "      <td>Lithium Polymer</td>\n",
       "      <td>4.3</td>\n",
       "      <td>NaN</td>\n",
       "    </tr>\n",
       "    <tr>\n",
       "      <th>3</th>\n",
       "      <td>boAt</td>\n",
       "      <td>20000.0</td>\n",
       "      <td>22.500000</td>\n",
       "      <td>1499.0</td>\n",
       "      <td>BankBurgundy</td>\n",
       "      <td>Lithium Polymer</td>\n",
       "      <td>4.1</td>\n",
       "      <td>NaN</td>\n",
       "    </tr>\n",
       "    <tr>\n",
       "      <th>4</th>\n",
       "      <td>boAt</td>\n",
       "      <td>20000.0</td>\n",
       "      <td>22.500000</td>\n",
       "      <td>1499.0</td>\n",
       "      <td>BankBlack</td>\n",
       "      <td>Lithium Polymer</td>\n",
       "      <td>4.1</td>\n",
       "      <td>NaN</td>\n",
       "    </tr>\n",
       "    <tr>\n",
       "      <th>...</th>\n",
       "      <td>...</td>\n",
       "      <td>...</td>\n",
       "      <td>...</td>\n",
       "      <td>...</td>\n",
       "      <td>...</td>\n",
       "      <td>...</td>\n",
       "      <td>...</td>\n",
       "      <td>...</td>\n",
       "    </tr>\n",
       "    <tr>\n",
       "      <th>486</th>\n",
       "      <td>zofia</td>\n",
       "      <td>30000.0</td>\n",
       "      <td>18.000000</td>\n",
       "      <td>599.0</td>\n",
       "      <td>BankBlue</td>\n",
       "      <td>Lithium-ion</td>\n",
       "      <td>4.0</td>\n",
       "      <td>NaN</td>\n",
       "    </tr>\n",
       "    <tr>\n",
       "      <th>487</th>\n",
       "      <td>Portronics</td>\n",
       "      <td>10000.0</td>\n",
       "      <td>22.500000</td>\n",
       "      <td>1449.0</td>\n",
       "      <td>BankWhite</td>\n",
       "      <td>Lithium-ion</td>\n",
       "      <td>4.1</td>\n",
       "      <td>NaN</td>\n",
       "    </tr>\n",
       "    <tr>\n",
       "      <th>488</th>\n",
       "      <td>ORENICS</td>\n",
       "      <td>33000.0</td>\n",
       "      <td>18.238702</td>\n",
       "      <td>449.0</td>\n",
       "      <td>BankGreen</td>\n",
       "      <td>Lithium-ion</td>\n",
       "      <td>3.2</td>\n",
       "      <td>NaN</td>\n",
       "    </tr>\n",
       "    <tr>\n",
       "      <th>489</th>\n",
       "      <td>DG</td>\n",
       "      <td>20000.0</td>\n",
       "      <td>18.000000</td>\n",
       "      <td>959.0</td>\n",
       "      <td>BankWhite</td>\n",
       "      <td>Lithium Polymer</td>\n",
       "      <td>4.0</td>\n",
       "      <td>NaN</td>\n",
       "    </tr>\n",
       "    <tr>\n",
       "      <th>490</th>\n",
       "      <td>DG</td>\n",
       "      <td>45600.0</td>\n",
       "      <td>18.238702</td>\n",
       "      <td>1479.0</td>\n",
       "      <td>BankBlack</td>\n",
       "      <td>Lithium Polymer</td>\n",
       "      <td>4.0</td>\n",
       "      <td>NaN</td>\n",
       "    </tr>\n",
       "  </tbody>\n",
       "</table>\n",
       "<p>491 rows × 8 columns</p>\n",
       "</div>"
      ],
      "text/plain": [
       "          Brand  Capacity      Power   Price         Color     Battery_Type  \\\n",
       "0            Mi   10000.0  18.000000  1249.0      BankBlue  Lithium Polymer   \n",
       "1          URBN   10000.0  12.000000   899.0     BankBlack  Lithium Polymer   \n",
       "2            Mi   20000.0  18.000000  1899.0     BankBlack  Lithium Polymer   \n",
       "3          boAt   20000.0  22.500000  1499.0  BankBurgundy  Lithium Polymer   \n",
       "4          boAt   20000.0  22.500000  1499.0     BankBlack  Lithium Polymer   \n",
       "..          ...       ...        ...     ...           ...              ...   \n",
       "486       zofia   30000.0  18.000000   599.0      BankBlue      Lithium-ion   \n",
       "487  Portronics   10000.0  22.500000  1449.0     BankWhite      Lithium-ion   \n",
       "488     ORENICS   33000.0  18.238702   449.0     BankGreen      Lithium-ion   \n",
       "489          DG   20000.0  18.000000   959.0     BankWhite  Lithium Polymer   \n",
       "490          DG   45600.0  18.238702  1479.0     BankBlack  Lithium Polymer   \n",
       "\n",
       "     Ratings  Category  \n",
       "0        4.3       NaN  \n",
       "1        4.0       NaN  \n",
       "2        4.3       NaN  \n",
       "3        4.1       NaN  \n",
       "4        4.1       NaN  \n",
       "..       ...       ...  \n",
       "486      4.0       NaN  \n",
       "487      4.1       NaN  \n",
       "488      3.2       NaN  \n",
       "489      4.0       NaN  \n",
       "490      4.0       NaN  \n",
       "\n",
       "[491 rows x 8 columns]"
      ]
     },
     "execution_count": 125,
     "metadata": {},
     "output_type": "execute_result"
    }
   ],
   "source": [
    "df1"
   ]
  },
  {
   "cell_type": "code",
   "execution_count": 122,
   "id": "52292324",
   "metadata": {},
   "outputs": [
    {
     "data": {
      "text/html": [
       "<div>\n",
       "<style scoped>\n",
       "    .dataframe tbody tr th:only-of-type {\n",
       "        vertical-align: middle;\n",
       "    }\n",
       "\n",
       "    .dataframe tbody tr th {\n",
       "        vertical-align: top;\n",
       "    }\n",
       "\n",
       "    .dataframe thead th {\n",
       "        text-align: right;\n",
       "    }\n",
       "</style>\n",
       "<table border=\"1\" class=\"dataframe\">\n",
       "  <thead>\n",
       "    <tr style=\"text-align: right;\">\n",
       "      <th></th>\n",
       "      <th>Brand</th>\n",
       "      <th>Capacity</th>\n",
       "      <th>Power</th>\n",
       "      <th>Price</th>\n",
       "      <th>Color</th>\n",
       "      <th>Battery_Type</th>\n",
       "      <th>Ratings</th>\n",
       "      <th>Category</th>\n",
       "    </tr>\n",
       "  </thead>\n",
       "  <tbody>\n",
       "    <tr>\n",
       "      <th>0</th>\n",
       "      <td>Mi</td>\n",
       "      <td>10000.0</td>\n",
       "      <td>18.000000</td>\n",
       "      <td>1249.0</td>\n",
       "      <td>BankBlue</td>\n",
       "      <td>Lithium Polymer</td>\n",
       "      <td>4.3</td>\n",
       "      <td>NaN</td>\n",
       "    </tr>\n",
       "    <tr>\n",
       "      <th>1</th>\n",
       "      <td>URBN</td>\n",
       "      <td>10000.0</td>\n",
       "      <td>12.000000</td>\n",
       "      <td>899.0</td>\n",
       "      <td>BankBlack</td>\n",
       "      <td>Lithium Polymer</td>\n",
       "      <td>4.0</td>\n",
       "      <td>NaN</td>\n",
       "    </tr>\n",
       "    <tr>\n",
       "      <th>2</th>\n",
       "      <td>Mi</td>\n",
       "      <td>20000.0</td>\n",
       "      <td>18.000000</td>\n",
       "      <td>1899.0</td>\n",
       "      <td>BankBlack</td>\n",
       "      <td>Lithium Polymer</td>\n",
       "      <td>4.3</td>\n",
       "      <td>NaN</td>\n",
       "    </tr>\n",
       "    <tr>\n",
       "      <th>3</th>\n",
       "      <td>boAt</td>\n",
       "      <td>20000.0</td>\n",
       "      <td>22.500000</td>\n",
       "      <td>1499.0</td>\n",
       "      <td>BankBurgundy</td>\n",
       "      <td>Lithium Polymer</td>\n",
       "      <td>4.1</td>\n",
       "      <td>NaN</td>\n",
       "    </tr>\n",
       "    <tr>\n",
       "      <th>4</th>\n",
       "      <td>boAt</td>\n",
       "      <td>20000.0</td>\n",
       "      <td>22.500000</td>\n",
       "      <td>1499.0</td>\n",
       "      <td>BankBlack</td>\n",
       "      <td>Lithium Polymer</td>\n",
       "      <td>4.1</td>\n",
       "      <td>NaN</td>\n",
       "    </tr>\n",
       "    <tr>\n",
       "      <th>...</th>\n",
       "      <td>...</td>\n",
       "      <td>...</td>\n",
       "      <td>...</td>\n",
       "      <td>...</td>\n",
       "      <td>...</td>\n",
       "      <td>...</td>\n",
       "      <td>...</td>\n",
       "      <td>...</td>\n",
       "    </tr>\n",
       "    <tr>\n",
       "      <th>486</th>\n",
       "      <td>zofia</td>\n",
       "      <td>30000.0</td>\n",
       "      <td>18.000000</td>\n",
       "      <td>599.0</td>\n",
       "      <td>BankBlue</td>\n",
       "      <td>Lithium-ion</td>\n",
       "      <td>4.0</td>\n",
       "      <td>NaN</td>\n",
       "    </tr>\n",
       "    <tr>\n",
       "      <th>487</th>\n",
       "      <td>Portronics</td>\n",
       "      <td>10000.0</td>\n",
       "      <td>22.500000</td>\n",
       "      <td>1449.0</td>\n",
       "      <td>BankWhite</td>\n",
       "      <td>Lithium-ion</td>\n",
       "      <td>4.1</td>\n",
       "      <td>NaN</td>\n",
       "    </tr>\n",
       "    <tr>\n",
       "      <th>488</th>\n",
       "      <td>ORENICS</td>\n",
       "      <td>33000.0</td>\n",
       "      <td>18.238702</td>\n",
       "      <td>449.0</td>\n",
       "      <td>BankGreen</td>\n",
       "      <td>Lithium-ion</td>\n",
       "      <td>3.2</td>\n",
       "      <td>NaN</td>\n",
       "    </tr>\n",
       "    <tr>\n",
       "      <th>489</th>\n",
       "      <td>DG</td>\n",
       "      <td>20000.0</td>\n",
       "      <td>18.000000</td>\n",
       "      <td>959.0</td>\n",
       "      <td>BankWhite</td>\n",
       "      <td>Lithium Polymer</td>\n",
       "      <td>4.0</td>\n",
       "      <td>NaN</td>\n",
       "    </tr>\n",
       "    <tr>\n",
       "      <th>490</th>\n",
       "      <td>DG</td>\n",
       "      <td>45600.0</td>\n",
       "      <td>18.238702</td>\n",
       "      <td>1479.0</td>\n",
       "      <td>BankBlack</td>\n",
       "      <td>Lithium Polymer</td>\n",
       "      <td>4.0</td>\n",
       "      <td>NaN</td>\n",
       "    </tr>\n",
       "  </tbody>\n",
       "</table>\n",
       "<p>491 rows × 8 columns</p>\n",
       "</div>"
      ],
      "text/plain": [
       "          Brand  Capacity      Power   Price         Color     Battery_Type  \\\n",
       "0            Mi   10000.0  18.000000  1249.0      BankBlue  Lithium Polymer   \n",
       "1          URBN   10000.0  12.000000   899.0     BankBlack  Lithium Polymer   \n",
       "2            Mi   20000.0  18.000000  1899.0     BankBlack  Lithium Polymer   \n",
       "3          boAt   20000.0  22.500000  1499.0  BankBurgundy  Lithium Polymer   \n",
       "4          boAt   20000.0  22.500000  1499.0     BankBlack  Lithium Polymer   \n",
       "..          ...       ...        ...     ...           ...              ...   \n",
       "486       zofia   30000.0  18.000000   599.0      BankBlue      Lithium-ion   \n",
       "487  Portronics   10000.0  22.500000  1449.0     BankWhite      Lithium-ion   \n",
       "488     ORENICS   33000.0  18.238702   449.0     BankGreen      Lithium-ion   \n",
       "489          DG   20000.0  18.000000   959.0     BankWhite  Lithium Polymer   \n",
       "490          DG   45600.0  18.238702  1479.0     BankBlack  Lithium Polymer   \n",
       "\n",
       "     Ratings  Category  \n",
       "0        4.3       NaN  \n",
       "1        4.0       NaN  \n",
       "2        4.3       NaN  \n",
       "3        4.1       NaN  \n",
       "4        4.1       NaN  \n",
       "..       ...       ...  \n",
       "486      4.0       NaN  \n",
       "487      4.1       NaN  \n",
       "488      3.2       NaN  \n",
       "489      4.0       NaN  \n",
       "490      4.0       NaN  \n",
       "\n",
       "[491 rows x 8 columns]"
      ]
     },
     "execution_count": 122,
     "metadata": {},
     "output_type": "execute_result"
    }
   ],
   "source": [
    "df1"
   ]
  },
  {
   "cell_type": "code",
   "execution_count": 126,
   "id": "c78b5a43",
   "metadata": {},
   "outputs": [
    {
     "data": {
      "text/html": [
       "<div>\n",
       "<style scoped>\n",
       "    .dataframe tbody tr th:only-of-type {\n",
       "        vertical-align: middle;\n",
       "    }\n",
       "\n",
       "    .dataframe tbody tr th {\n",
       "        vertical-align: top;\n",
       "    }\n",
       "\n",
       "    .dataframe thead th {\n",
       "        text-align: right;\n",
       "    }\n",
       "</style>\n",
       "<table border=\"1\" class=\"dataframe\">\n",
       "  <thead>\n",
       "    <tr style=\"text-align: right;\">\n",
       "      <th></th>\n",
       "      <th>Brand</th>\n",
       "      <th>Capacity</th>\n",
       "      <th>Power</th>\n",
       "      <th>Price</th>\n",
       "      <th>Color</th>\n",
       "      <th>Battery_Type</th>\n",
       "      <th>Ratings</th>\n",
       "      <th>Category</th>\n",
       "    </tr>\n",
       "  </thead>\n",
       "  <tbody>\n",
       "  </tbody>\n",
       "</table>\n",
       "</div>"
      ],
      "text/plain": [
       "Empty DataFrame\n",
       "Columns: [Brand, Capacity, Power, Price, Color, Battery_Type, Ratings, Category]\n",
       "Index: []"
      ]
     },
     "execution_count": 126,
     "metadata": {},
     "output_type": "execute_result"
    }
   ],
   "source": [
    "df1[df1['Category']==\"Low Rated\"]"
   ]
  },
  {
   "cell_type": "code",
   "execution_count": 127,
   "id": "84eb08ea",
   "metadata": {},
   "outputs": [
    {
     "name": "stderr",
     "output_type": "stream",
     "text": [
      "C:\\Users\\rahul\\AppData\\Local\\Temp\\ipykernel_8100\\1619529609.py:3: SettingWithCopyWarning: \n",
      "A value is trying to be set on a copy of a slice from a DataFrame\n",
      "\n",
      "See the caveats in the documentation: https://pandas.pydata.org/pandas-docs/stable/user_guide/indexing.html#returning-a-view-versus-a-copy\n",
      "  df1['Category'][i] = \"Highly Rated\"\n"
     ]
    }
   ],
   "source": [
    "for i in range(len(df1['Ratings'])):\n",
    "    if df1['Ratings'][i] >=4:\n",
    "        df1['Category'][i] = \"Highly Rated\"\n",
    "    elif df1['Ratings'][i] >=3 and df1['Ratings'][i]<4:\n",
    "        df1['Category'][i] = \"Average Rated\"\n",
    "    else:\n",
    "        df1['Category'][i] = \"Low Rated\"\n",
    "    "
   ]
  },
  {
   "cell_type": "code",
   "execution_count": 128,
   "id": "8ba7db9a",
   "metadata": {},
   "outputs": [
    {
     "name": "stderr",
     "output_type": "stream",
     "text": [
      "C:\\Users\\rahul\\anaconda3\\Lib\\site-packages\\seaborn\\axisgrid.py:118: UserWarning: The figure layout has changed to tight\n",
      "  self._figure.tight_layout(*args, **kwargs)\n"
     ]
    },
    {
     "data": {
      "text/plain": [
       "<seaborn.axisgrid.FacetGrid at 0x28ce72a9290>"
      ]
     },
     "execution_count": 128,
     "metadata": {},
     "output_type": "execute_result"
    },
    {
     "data": {
      "image/png": "[encoded data removed]",
      "text/plain": [
       "<Figure size 500x500 with 1 Axes>"
      ]
     },
     "metadata": {},
     "output_type": "display_data"
    }
   ],
   "source": [
    "sns.catplot(data = df1,x = 'Category',y = 'Capacity',kind = 'bar') "
   ]
  },
  {
   "cell_type": "code",
   "execution_count": 129,
   "id": "b5cc9609",
   "metadata": {},
   "outputs": [
    {
     "name": "stderr",
     "output_type": "stream",
     "text": [
      "C:\\Users\\rahul\\anaconda3\\Lib\\site-packages\\seaborn\\axisgrid.py:118: UserWarning: The figure layout has changed to tight\n",
      "  self._figure.tight_layout(*args, **kwargs)\n"
     ]
    },
    {
     "data": {
      "text/plain": [
       "<seaborn.axisgrid.FacetGrid at 0x28ce7331290>"
      ]
     },
     "execution_count": 129,
     "metadata": {},
     "output_type": "execute_result"
    },
    {
     "data": {
      "image/png": "[encoded data removed]",
      "text/plain": [
       "<Figure size 500x500 with 1 Axes>"
      ]
     },
     "metadata": {},
     "output_type": "display_data"
    }
   ],
   "source": [
    "sns.catplot(data = df1,x = 'Category',y = 'Price',kind = 'bar')"
   ]
  },
  {
   "cell_type": "code",
   "execution_count": 130,
   "id": "34f9f90b",
   "metadata": {},
   "outputs": [
    {
     "name": "stderr",
     "output_type": "stream",
     "text": [
      "C:\\Users\\rahul\\anaconda3\\Lib\\site-packages\\seaborn\\axisgrid.py:118: UserWarning: The figure layout has changed to tight\n",
      "  self._figure.tight_layout(*args, **kwargs)\n"
     ]
    },
    {
     "data": {
      "text/plain": [
       "<seaborn.axisgrid.FacetGrid at 0x28cebaf37d0>"
      ]
     },
     "execution_count": 130,
     "metadata": {},
     "output_type": "execute_result"
    },
    {
     "data": {
      "image/png": "[encoded data removed]",
      "text/plain": [
       "<Figure size 500x500 with 1 Axes>"
      ]
     },
     "metadata": {},
     "output_type": "display_data"
    }
   ],
   "source": [
    "sns.catplot(data = df1,x = 'Category',y = 'Power',kind = 'bar')"
   ]
  },
  {
   "cell_type": "code",
   "execution_count": 131,
   "id": "ffebaa3f",
   "metadata": {},
   "outputs": [
    {
     "name": "stderr",
     "output_type": "stream",
     "text": [
      "C:\\Users\\rahul\\anaconda3\\Lib\\site-packages\\seaborn\\axisgrid.py:118: UserWarning: The figure layout has changed to tight\n",
      "  self._figure.tight_layout(*args, **kwargs)\n"
     ]
    },
    {
     "data": {
      "text/plain": [
       "<seaborn.axisgrid.FacetGrid at 0x28cebb53990>"
      ]
     },
     "execution_count": 131,
     "metadata": {},
     "output_type": "execute_result"
    },
    {
     "data": {
      "image/png": "[encoded data removed]",
      "text/plain": [
       "<Figure size 500x500 with 1 Axes>"
      ]
     },
     "metadata": {},
     "output_type": "display_data"
    }
   ],
   "source": [
    "sns.catplot(data = df1,x = 'Category',y = 'Ratings',kind = 'bar')"
   ]
  },
  {
   "cell_type": "markdown",
   "id": "cb7048ea",
   "metadata": {},
   "source": [
    "## Cross Tab"
   ]
  },
  {
   "cell_type": "code",
   "execution_count": 132,
   "id": "799b693f",
   "metadata": {},
   "outputs": [
    {
     "data": {
      "text/html": [
       "<div>\n",
       "<style scoped>\n",
       "    .dataframe tbody tr th:only-of-type {\n",
       "        vertical-align: middle;\n",
       "    }\n",
       "\n",
       "    .dataframe tbody tr th {\n",
       "        vertical-align: top;\n",
       "    }\n",
       "\n",
       "    .dataframe thead th {\n",
       "        text-align: right;\n",
       "    }\n",
       "</style>\n",
       "<table border=\"1\" class=\"dataframe\">\n",
       "  <thead>\n",
       "    <tr style=\"text-align: right;\">\n",
       "      <th></th>\n",
       "      <th>Brand</th>\n",
       "      <th>Capacity</th>\n",
       "      <th>Power</th>\n",
       "      <th>Price</th>\n",
       "      <th>Color</th>\n",
       "      <th>Battery_Type</th>\n",
       "      <th>Ratings</th>\n",
       "      <th>Category</th>\n",
       "    </tr>\n",
       "  </thead>\n",
       "  <tbody>\n",
       "    <tr>\n",
       "      <th>0</th>\n",
       "      <td>Mi</td>\n",
       "      <td>10000.0</td>\n",
       "      <td>18.000000</td>\n",
       "      <td>1249.0</td>\n",
       "      <td>BankBlue</td>\n",
       "      <td>Lithium Polymer</td>\n",
       "      <td>4.3</td>\n",
       "      <td>Highly Rated</td>\n",
       "    </tr>\n",
       "    <tr>\n",
       "      <th>1</th>\n",
       "      <td>URBN</td>\n",
       "      <td>10000.0</td>\n",
       "      <td>12.000000</td>\n",
       "      <td>899.0</td>\n",
       "      <td>BankBlack</td>\n",
       "      <td>Lithium Polymer</td>\n",
       "      <td>4.0</td>\n",
       "      <td>Highly Rated</td>\n",
       "    </tr>\n",
       "    <tr>\n",
       "      <th>2</th>\n",
       "      <td>Mi</td>\n",
       "      <td>20000.0</td>\n",
       "      <td>18.000000</td>\n",
       "      <td>1899.0</td>\n",
       "      <td>BankBlack</td>\n",
       "      <td>Lithium Polymer</td>\n",
       "      <td>4.3</td>\n",
       "      <td>Highly Rated</td>\n",
       "    </tr>\n",
       "    <tr>\n",
       "      <th>3</th>\n",
       "      <td>boAt</td>\n",
       "      <td>20000.0</td>\n",
       "      <td>22.500000</td>\n",
       "      <td>1499.0</td>\n",
       "      <td>BankBurgundy</td>\n",
       "      <td>Lithium Polymer</td>\n",
       "      <td>4.1</td>\n",
       "      <td>Highly Rated</td>\n",
       "    </tr>\n",
       "    <tr>\n",
       "      <th>4</th>\n",
       "      <td>boAt</td>\n",
       "      <td>20000.0</td>\n",
       "      <td>22.500000</td>\n",
       "      <td>1499.0</td>\n",
       "      <td>BankBlack</td>\n",
       "      <td>Lithium Polymer</td>\n",
       "      <td>4.1</td>\n",
       "      <td>Highly Rated</td>\n",
       "    </tr>\n",
       "    <tr>\n",
       "      <th>...</th>\n",
       "      <td>...</td>\n",
       "      <td>...</td>\n",
       "      <td>...</td>\n",
       "      <td>...</td>\n",
       "      <td>...</td>\n",
       "      <td>...</td>\n",
       "      <td>...</td>\n",
       "      <td>...</td>\n",
       "    </tr>\n",
       "    <tr>\n",
       "      <th>486</th>\n",
       "      <td>zofia</td>\n",
       "      <td>30000.0</td>\n",
       "      <td>18.000000</td>\n",
       "      <td>599.0</td>\n",
       "      <td>BankBlue</td>\n",
       "      <td>Lithium-ion</td>\n",
       "      <td>4.0</td>\n",
       "      <td>Highly Rated</td>\n",
       "    </tr>\n",
       "    <tr>\n",
       "      <th>487</th>\n",
       "      <td>Portronics</td>\n",
       "      <td>10000.0</td>\n",
       "      <td>22.500000</td>\n",
       "      <td>1449.0</td>\n",
       "      <td>BankWhite</td>\n",
       "      <td>Lithium-ion</td>\n",
       "      <td>4.1</td>\n",
       "      <td>Highly Rated</td>\n",
       "    </tr>\n",
       "    <tr>\n",
       "      <th>488</th>\n",
       "      <td>ORENICS</td>\n",
       "      <td>33000.0</td>\n",
       "      <td>18.238702</td>\n",
       "      <td>449.0</td>\n",
       "      <td>BankGreen</td>\n",
       "      <td>Lithium-ion</td>\n",
       "      <td>3.2</td>\n",
       "      <td>Average Rated</td>\n",
       "    </tr>\n",
       "    <tr>\n",
       "      <th>489</th>\n",
       "      <td>DG</td>\n",
       "      <td>20000.0</td>\n",
       "      <td>18.000000</td>\n",
       "      <td>959.0</td>\n",
       "      <td>BankWhite</td>\n",
       "      <td>Lithium Polymer</td>\n",
       "      <td>4.0</td>\n",
       "      <td>Highly Rated</td>\n",
       "    </tr>\n",
       "    <tr>\n",
       "      <th>490</th>\n",
       "      <td>DG</td>\n",
       "      <td>45600.0</td>\n",
       "      <td>18.238702</td>\n",
       "      <td>1479.0</td>\n",
       "      <td>BankBlack</td>\n",
       "      <td>Lithium Polymer</td>\n",
       "      <td>4.0</td>\n",
       "      <td>Highly Rated</td>\n",
       "    </tr>\n",
       "  </tbody>\n",
       "</table>\n",
       "<p>491 rows × 8 columns</p>\n",
       "</div>"
      ],
      "text/plain": [
       "          Brand  Capacity      Power   Price         Color     Battery_Type  \\\n",
       "0            Mi   10000.0  18.000000  1249.0      BankBlue  Lithium Polymer   \n",
       "1          URBN   10000.0  12.000000   899.0     BankBlack  Lithium Polymer   \n",
       "2            Mi   20000.0  18.000000  1899.0     BankBlack  Lithium Polymer   \n",
       "3          boAt   20000.0  22.500000  1499.0  BankBurgundy  Lithium Polymer   \n",
       "4          boAt   20000.0  22.500000  1499.0     BankBlack  Lithium Polymer   \n",
       "..          ...       ...        ...     ...           ...              ...   \n",
       "486       zofia   30000.0  18.000000   599.0      BankBlue      Lithium-ion   \n",
       "487  Portronics   10000.0  22.500000  1449.0     BankWhite      Lithium-ion   \n",
       "488     ORENICS   33000.0  18.238702   449.0     BankGreen      Lithium-ion   \n",
       "489          DG   20000.0  18.000000   959.0     BankWhite  Lithium Polymer   \n",
       "490          DG   45600.0  18.238702  1479.0     BankBlack  Lithium Polymer   \n",
       "\n",
       "     Ratings       Category  \n",
       "0        4.3   Highly Rated  \n",
       "1        4.0   Highly Rated  \n",
       "2        4.3   Highly Rated  \n",
       "3        4.1   Highly Rated  \n",
       "4        4.1   Highly Rated  \n",
       "..       ...            ...  \n",
       "486      4.0   Highly Rated  \n",
       "487      4.1   Highly Rated  \n",
       "488      3.2  Average Rated  \n",
       "489      4.0   Highly Rated  \n",
       "490      4.0   Highly Rated  \n",
       "\n",
       "[491 rows x 8 columns]"
      ]
     },
     "execution_count": 132,
     "metadata": {},
     "output_type": "execute_result"
    }
   ],
   "source": [
    "df1"
   ]
  },
  {
   "cell_type": "code",
   "execution_count": 133,
   "id": "ef2a7cea",
   "metadata": {},
   "outputs": [
    {
     "data": {
      "text/html": [
       "<div>\n",
       "<style scoped>\n",
       "    .dataframe tbody tr th:only-of-type {\n",
       "        vertical-align: middle;\n",
       "    }\n",
       "\n",
       "    .dataframe tbody tr th {\n",
       "        vertical-align: top;\n",
       "    }\n",
       "\n",
       "    .dataframe thead th {\n",
       "        text-align: right;\n",
       "    }\n",
       "</style>\n",
       "<table border=\"1\" class=\"dataframe\">\n",
       "  <thead>\n",
       "    <tr style=\"text-align: right;\">\n",
       "      <th>Battery_Type</th>\n",
       "      <th>Lithium Polymer</th>\n",
       "      <th>Lithium-ion</th>\n",
       "    </tr>\n",
       "    <tr>\n",
       "      <th>Brand</th>\n",
       "      <th></th>\n",
       "      <th></th>\n",
       "    </tr>\n",
       "  </thead>\n",
       "  <tbody>\n",
       "    <tr>\n",
       "      <th>9Ways</th>\n",
       "      <td>1</td>\n",
       "      <td>0</td>\n",
       "    </tr>\n",
       "    <tr>\n",
       "      <th>AMYTEL</th>\n",
       "      <td>10</td>\n",
       "      <td>1</td>\n",
       "    </tr>\n",
       "    <tr>\n",
       "      <th>AXL</th>\n",
       "      <td>1</td>\n",
       "      <td>0</td>\n",
       "    </tr>\n",
       "    <tr>\n",
       "      <th>Ambrane</th>\n",
       "      <td>26</td>\n",
       "      <td>2</td>\n",
       "    </tr>\n",
       "    <tr>\n",
       "      <th>Anker</th>\n",
       "      <td>1</td>\n",
       "      <td>0</td>\n",
       "    </tr>\n",
       "    <tr>\n",
       "      <th>...</th>\n",
       "      <td>...</td>\n",
       "      <td>...</td>\n",
       "    </tr>\n",
       "    <tr>\n",
       "      <th>slainte</th>\n",
       "      <td>1</td>\n",
       "      <td>0</td>\n",
       "    </tr>\n",
       "    <tr>\n",
       "      <th>sykz</th>\n",
       "      <td>3</td>\n",
       "      <td>2</td>\n",
       "    </tr>\n",
       "    <tr>\n",
       "      <th>uomi</th>\n",
       "      <td>0</td>\n",
       "      <td>1</td>\n",
       "    </tr>\n",
       "    <tr>\n",
       "      <th>vismac</th>\n",
       "      <td>0</td>\n",
       "      <td>4</td>\n",
       "    </tr>\n",
       "    <tr>\n",
       "      <th>zofia</th>\n",
       "      <td>1</td>\n",
       "      <td>9</td>\n",
       "    </tr>\n",
       "  </tbody>\n",
       "</table>\n",
       "<p>93 rows × 2 columns</p>\n",
       "</div>"
      ],
      "text/plain": [
       "Battery_Type  Lithium Polymer  Lithium-ion\n",
       "Brand                                     \n",
       "9Ways                       1            0\n",
       "AMYTEL                     10            1\n",
       "AXL                         1            0\n",
       "Ambrane                    26            2\n",
       "Anker                       1            0\n",
       "...                       ...          ...\n",
       "slainte                     1            0\n",
       "sykz                        3            2\n",
       "uomi                        0            1\n",
       "vismac                      0            4\n",
       "zofia                       1            9\n",
       "\n",
       "[93 rows x 2 columns]"
      ]
     },
     "execution_count": 133,
     "metadata": {},
     "output_type": "execute_result"
    }
   ],
   "source": [
    "pd.crosstab(df1['Brand'],df1['Battery_Type'])"
   ]
  },
  {
   "cell_type": "code",
   "execution_count": 134,
   "id": "ca1bac17",
   "metadata": {},
   "outputs": [
    {
     "data": {
      "text/html": [
       "<div>\n",
       "<style scoped>\n",
       "    .dataframe tbody tr th:only-of-type {\n",
       "        vertical-align: middle;\n",
       "    }\n",
       "\n",
       "    .dataframe tbody tr th {\n",
       "        vertical-align: top;\n",
       "    }\n",
       "\n",
       "    .dataframe thead th {\n",
       "        text-align: right;\n",
       "    }\n",
       "</style>\n",
       "<table border=\"1\" class=\"dataframe\">\n",
       "  <thead>\n",
       "    <tr style=\"text-align: right;\">\n",
       "      <th>Color</th>\n",
       "      <th>Bank</th>\n",
       "      <th>BankASSORTED</th>\n",
       "      <th>BankBeige</th>\n",
       "      <th>BankBlack</th>\n",
       "      <th>BankBlue</th>\n",
       "      <th>BankBrown</th>\n",
       "      <th>BankBurgundy</th>\n",
       "      <th>BankCamo</th>\n",
       "      <th>BankGreen</th>\n",
       "      <th>BankGrey</th>\n",
       "      <th>...</th>\n",
       "      <th>BankOrange</th>\n",
       "      <th>BankPink</th>\n",
       "      <th>BankPurple</th>\n",
       "      <th>BankRed</th>\n",
       "      <th>BankSilver</th>\n",
       "      <th>BankTransparent</th>\n",
       "      <th>BankWhite</th>\n",
       "      <th>BankYellow</th>\n",
       "      <th>Bankback</th>\n",
       "      <th>bank</th>\n",
       "    </tr>\n",
       "    <tr>\n",
       "      <th>Brand</th>\n",
       "      <th></th>\n",
       "      <th></th>\n",
       "      <th></th>\n",
       "      <th></th>\n",
       "      <th></th>\n",
       "      <th></th>\n",
       "      <th></th>\n",
       "      <th></th>\n",
       "      <th></th>\n",
       "      <th></th>\n",
       "      <th></th>\n",
       "      <th></th>\n",
       "      <th></th>\n",
       "      <th></th>\n",
       "      <th></th>\n",
       "      <th></th>\n",
       "      <th></th>\n",
       "      <th></th>\n",
       "      <th></th>\n",
       "      <th></th>\n",
       "      <th></th>\n",
       "    </tr>\n",
       "  </thead>\n",
       "  <tbody>\n",
       "    <tr>\n",
       "      <th>9Ways</th>\n",
       "      <td>0</td>\n",
       "      <td>0</td>\n",
       "      <td>0</td>\n",
       "      <td>1</td>\n",
       "      <td>0</td>\n",
       "      <td>0</td>\n",
       "      <td>0</td>\n",
       "      <td>0</td>\n",
       "      <td>0</td>\n",
       "      <td>0</td>\n",
       "      <td>...</td>\n",
       "      <td>0</td>\n",
       "      <td>0</td>\n",
       "      <td>0</td>\n",
       "      <td>0</td>\n",
       "      <td>0</td>\n",
       "      <td>0</td>\n",
       "      <td>0</td>\n",
       "      <td>0</td>\n",
       "      <td>0</td>\n",
       "      <td>0</td>\n",
       "    </tr>\n",
       "    <tr>\n",
       "      <th>AMYTEL</th>\n",
       "      <td>0</td>\n",
       "      <td>0</td>\n",
       "      <td>0</td>\n",
       "      <td>6</td>\n",
       "      <td>0</td>\n",
       "      <td>0</td>\n",
       "      <td>0</td>\n",
       "      <td>0</td>\n",
       "      <td>0</td>\n",
       "      <td>0</td>\n",
       "      <td>...</td>\n",
       "      <td>0</td>\n",
       "      <td>0</td>\n",
       "      <td>0</td>\n",
       "      <td>3</td>\n",
       "      <td>0</td>\n",
       "      <td>0</td>\n",
       "      <td>2</td>\n",
       "      <td>0</td>\n",
       "      <td>0</td>\n",
       "      <td>0</td>\n",
       "    </tr>\n",
       "    <tr>\n",
       "      <th>AXL</th>\n",
       "      <td>0</td>\n",
       "      <td>0</td>\n",
       "      <td>0</td>\n",
       "      <td>1</td>\n",
       "      <td>0</td>\n",
       "      <td>0</td>\n",
       "      <td>0</td>\n",
       "      <td>0</td>\n",
       "      <td>0</td>\n",
       "      <td>0</td>\n",
       "      <td>...</td>\n",
       "      <td>0</td>\n",
       "      <td>0</td>\n",
       "      <td>0</td>\n",
       "      <td>0</td>\n",
       "      <td>0</td>\n",
       "      <td>0</td>\n",
       "      <td>0</td>\n",
       "      <td>0</td>\n",
       "      <td>0</td>\n",
       "      <td>0</td>\n",
       "    </tr>\n",
       "    <tr>\n",
       "      <th>Ambrane</th>\n",
       "      <td>0</td>\n",
       "      <td>0</td>\n",
       "      <td>0</td>\n",
       "      <td>13</td>\n",
       "      <td>6</td>\n",
       "      <td>0</td>\n",
       "      <td>0</td>\n",
       "      <td>0</td>\n",
       "      <td>5</td>\n",
       "      <td>0</td>\n",
       "      <td>...</td>\n",
       "      <td>1</td>\n",
       "      <td>0</td>\n",
       "      <td>2</td>\n",
       "      <td>0</td>\n",
       "      <td>0</td>\n",
       "      <td>0</td>\n",
       "      <td>0</td>\n",
       "      <td>0</td>\n",
       "      <td>0</td>\n",
       "      <td>0</td>\n",
       "    </tr>\n",
       "    <tr>\n",
       "      <th>Anker</th>\n",
       "      <td>0</td>\n",
       "      <td>0</td>\n",
       "      <td>0</td>\n",
       "      <td>1</td>\n",
       "      <td>0</td>\n",
       "      <td>0</td>\n",
       "      <td>0</td>\n",
       "      <td>0</td>\n",
       "      <td>0</td>\n",
       "      <td>0</td>\n",
       "      <td>...</td>\n",
       "      <td>0</td>\n",
       "      <td>0</td>\n",
       "      <td>0</td>\n",
       "      <td>0</td>\n",
       "      <td>0</td>\n",
       "      <td>0</td>\n",
       "      <td>0</td>\n",
       "      <td>0</td>\n",
       "      <td>0</td>\n",
       "      <td>0</td>\n",
       "    </tr>\n",
       "    <tr>\n",
       "      <th>...</th>\n",
       "      <td>...</td>\n",
       "      <td>...</td>\n",
       "      <td>...</td>\n",
       "      <td>...</td>\n",
       "      <td>...</td>\n",
       "      <td>...</td>\n",
       "      <td>...</td>\n",
       "      <td>...</td>\n",
       "      <td>...</td>\n",
       "      <td>...</td>\n",
       "      <td>...</td>\n",
       "      <td>...</td>\n",
       "      <td>...</td>\n",
       "      <td>...</td>\n",
       "      <td>...</td>\n",
       "      <td>...</td>\n",
       "      <td>...</td>\n",
       "      <td>...</td>\n",
       "      <td>...</td>\n",
       "      <td>...</td>\n",
       "      <td>...</td>\n",
       "    </tr>\n",
       "    <tr>\n",
       "      <th>slainte</th>\n",
       "      <td>0</td>\n",
       "      <td>0</td>\n",
       "      <td>0</td>\n",
       "      <td>1</td>\n",
       "      <td>0</td>\n",
       "      <td>0</td>\n",
       "      <td>0</td>\n",
       "      <td>0</td>\n",
       "      <td>0</td>\n",
       "      <td>0</td>\n",
       "      <td>...</td>\n",
       "      <td>0</td>\n",
       "      <td>0</td>\n",
       "      <td>0</td>\n",
       "      <td>0</td>\n",
       "      <td>0</td>\n",
       "      <td>0</td>\n",
       "      <td>0</td>\n",
       "      <td>0</td>\n",
       "      <td>0</td>\n",
       "      <td>0</td>\n",
       "    </tr>\n",
       "    <tr>\n",
       "      <th>sykz</th>\n",
       "      <td>0</td>\n",
       "      <td>1</td>\n",
       "      <td>0</td>\n",
       "      <td>3</td>\n",
       "      <td>0</td>\n",
       "      <td>0</td>\n",
       "      <td>0</td>\n",
       "      <td>0</td>\n",
       "      <td>0</td>\n",
       "      <td>0</td>\n",
       "      <td>...</td>\n",
       "      <td>0</td>\n",
       "      <td>0</td>\n",
       "      <td>0</td>\n",
       "      <td>0</td>\n",
       "      <td>0</td>\n",
       "      <td>0</td>\n",
       "      <td>1</td>\n",
       "      <td>0</td>\n",
       "      <td>0</td>\n",
       "      <td>0</td>\n",
       "    </tr>\n",
       "    <tr>\n",
       "      <th>uomi</th>\n",
       "      <td>0</td>\n",
       "      <td>0</td>\n",
       "      <td>0</td>\n",
       "      <td>1</td>\n",
       "      <td>0</td>\n",
       "      <td>0</td>\n",
       "      <td>0</td>\n",
       "      <td>0</td>\n",
       "      <td>0</td>\n",
       "      <td>0</td>\n",
       "      <td>...</td>\n",
       "      <td>0</td>\n",
       "      <td>0</td>\n",
       "      <td>0</td>\n",
       "      <td>0</td>\n",
       "      <td>0</td>\n",
       "      <td>0</td>\n",
       "      <td>0</td>\n",
       "      <td>0</td>\n",
       "      <td>0</td>\n",
       "      <td>0</td>\n",
       "    </tr>\n",
       "    <tr>\n",
       "      <th>vismac</th>\n",
       "      <td>0</td>\n",
       "      <td>0</td>\n",
       "      <td>0</td>\n",
       "      <td>3</td>\n",
       "      <td>0</td>\n",
       "      <td>0</td>\n",
       "      <td>0</td>\n",
       "      <td>0</td>\n",
       "      <td>0</td>\n",
       "      <td>0</td>\n",
       "      <td>...</td>\n",
       "      <td>0</td>\n",
       "      <td>0</td>\n",
       "      <td>0</td>\n",
       "      <td>0</td>\n",
       "      <td>0</td>\n",
       "      <td>0</td>\n",
       "      <td>1</td>\n",
       "      <td>0</td>\n",
       "      <td>0</td>\n",
       "      <td>0</td>\n",
       "    </tr>\n",
       "    <tr>\n",
       "      <th>zofia</th>\n",
       "      <td>0</td>\n",
       "      <td>0</td>\n",
       "      <td>0</td>\n",
       "      <td>4</td>\n",
       "      <td>3</td>\n",
       "      <td>0</td>\n",
       "      <td>0</td>\n",
       "      <td>0</td>\n",
       "      <td>1</td>\n",
       "      <td>0</td>\n",
       "      <td>...</td>\n",
       "      <td>0</td>\n",
       "      <td>0</td>\n",
       "      <td>0</td>\n",
       "      <td>1</td>\n",
       "      <td>0</td>\n",
       "      <td>0</td>\n",
       "      <td>1</td>\n",
       "      <td>0</td>\n",
       "      <td>0</td>\n",
       "      <td>0</td>\n",
       "    </tr>\n",
       "  </tbody>\n",
       "</table>\n",
       "<p>93 rows × 22 columns</p>\n",
       "</div>"
      ],
      "text/plain": [
       "Color    Bank  BankASSORTED  BankBeige  BankBlack  BankBlue  BankBrown  \\\n",
       "Brand                                                                    \n",
       "9Ways       0             0          0          1         0          0   \n",
       "AMYTEL      0             0          0          6         0          0   \n",
       "AXL         0             0          0          1         0          0   \n",
       "Ambrane     0             0          0         13         6          0   \n",
       "Anker       0             0          0          1         0          0   \n",
       "...       ...           ...        ...        ...       ...        ...   \n",
       "slainte     0             0          0          1         0          0   \n",
       "sykz        0             1          0          3         0          0   \n",
       "uomi        0             0          0          1         0          0   \n",
       "vismac      0             0          0          3         0          0   \n",
       "zofia       0             0          0          4         3          0   \n",
       "\n",
       "Color    BankBurgundy  BankCamo  BankGreen  BankGrey  ...  BankOrange  \\\n",
       "Brand                                                 ...               \n",
       "9Ways               0         0          0         0  ...           0   \n",
       "AMYTEL              0         0          0         0  ...           0   \n",
       "AXL                 0         0          0         0  ...           0   \n",
       "Ambrane             0         0          5         0  ...           1   \n",
       "Anker               0         0          0         0  ...           0   \n",
       "...               ...       ...        ...       ...  ...         ...   \n",
       "slainte             0         0          0         0  ...           0   \n",
       "sykz                0         0          0         0  ...           0   \n",
       "uomi                0         0          0         0  ...           0   \n",
       "vismac              0         0          0         0  ...           0   \n",
       "zofia               0         0          1         0  ...           0   \n",
       "\n",
       "Color    BankPink  BankPurple  BankRed  BankSilver  BankTransparent  \\\n",
       "Brand                                                                 \n",
       "9Ways           0           0        0           0                0   \n",
       "AMYTEL          0           0        3           0                0   \n",
       "AXL             0           0        0           0                0   \n",
       "Ambrane         0           2        0           0                0   \n",
       "Anker           0           0        0           0                0   \n",
       "...           ...         ...      ...         ...              ...   \n",
       "slainte         0           0        0           0                0   \n",
       "sykz            0           0        0           0                0   \n",
       "uomi            0           0        0           0                0   \n",
       "vismac          0           0        0           0                0   \n",
       "zofia           0           0        1           0                0   \n",
       "\n",
       "Color    BankWhite  BankYellow  Bankback  bank  \n",
       "Brand                                           \n",
       "9Ways            0           0         0     0  \n",
       "AMYTEL           2           0         0     0  \n",
       "AXL              0           0         0     0  \n",
       "Ambrane          0           0         0     0  \n",
       "Anker            0           0         0     0  \n",
       "...            ...         ...       ...   ...  \n",
       "slainte          0           0         0     0  \n",
       "sykz             1           0         0     0  \n",
       "uomi             0           0         0     0  \n",
       "vismac           1           0         0     0  \n",
       "zofia            1           0         0     0  \n",
       "\n",
       "[93 rows x 22 columns]"
      ]
     },
     "execution_count": 134,
     "metadata": {},
     "output_type": "execute_result"
    }
   ],
   "source": [
    "pd.crosstab(df1['Brand'],df1['Color'])"
   ]
  },
  {
   "cell_type": "code",
   "execution_count": 135,
   "id": "47ada70d",
   "metadata": {},
   "outputs": [
    {
     "data": {
      "text/html": [
       "<div>\n",
       "<style scoped>\n",
       "    .dataframe tbody tr th:only-of-type {\n",
       "        vertical-align: middle;\n",
       "    }\n",
       "\n",
       "    .dataframe tbody tr th {\n",
       "        vertical-align: top;\n",
       "    }\n",
       "\n",
       "    .dataframe thead th {\n",
       "        text-align: right;\n",
       "    }\n",
       "</style>\n",
       "<table border=\"1\" class=\"dataframe\">\n",
       "  <thead>\n",
       "    <tr style=\"text-align: right;\">\n",
       "      <th>Category</th>\n",
       "      <th>Average Rated</th>\n",
       "      <th>Highly Rated</th>\n",
       "      <th>Low Rated</th>\n",
       "    </tr>\n",
       "    <tr>\n",
       "      <th>Brand</th>\n",
       "      <th></th>\n",
       "      <th></th>\n",
       "      <th></th>\n",
       "    </tr>\n",
       "  </thead>\n",
       "  <tbody>\n",
       "    <tr>\n",
       "      <th>9Ways</th>\n",
       "      <td>0</td>\n",
       "      <td>1</td>\n",
       "      <td>0</td>\n",
       "    </tr>\n",
       "    <tr>\n",
       "      <th>AMYTEL</th>\n",
       "      <td>4</td>\n",
       "      <td>6</td>\n",
       "      <td>1</td>\n",
       "    </tr>\n",
       "    <tr>\n",
       "      <th>AXL</th>\n",
       "      <td>0</td>\n",
       "      <td>1</td>\n",
       "      <td>0</td>\n",
       "    </tr>\n",
       "    <tr>\n",
       "      <th>Ambrane</th>\n",
       "      <td>2</td>\n",
       "      <td>26</td>\n",
       "      <td>0</td>\n",
       "    </tr>\n",
       "    <tr>\n",
       "      <th>Anker</th>\n",
       "      <td>0</td>\n",
       "      <td>1</td>\n",
       "      <td>0</td>\n",
       "    </tr>\n",
       "    <tr>\n",
       "      <th>...</th>\n",
       "      <td>...</td>\n",
       "      <td>...</td>\n",
       "      <td>...</td>\n",
       "    </tr>\n",
       "    <tr>\n",
       "      <th>slainte</th>\n",
       "      <td>1</td>\n",
       "      <td>0</td>\n",
       "      <td>0</td>\n",
       "    </tr>\n",
       "    <tr>\n",
       "      <th>sykz</th>\n",
       "      <td>2</td>\n",
       "      <td>2</td>\n",
       "      <td>1</td>\n",
       "    </tr>\n",
       "    <tr>\n",
       "      <th>uomi</th>\n",
       "      <td>1</td>\n",
       "      <td>0</td>\n",
       "      <td>0</td>\n",
       "    </tr>\n",
       "    <tr>\n",
       "      <th>vismac</th>\n",
       "      <td>0</td>\n",
       "      <td>4</td>\n",
       "      <td>0</td>\n",
       "    </tr>\n",
       "    <tr>\n",
       "      <th>zofia</th>\n",
       "      <td>5</td>\n",
       "      <td>5</td>\n",
       "      <td>0</td>\n",
       "    </tr>\n",
       "  </tbody>\n",
       "</table>\n",
       "<p>93 rows × 3 columns</p>\n",
       "</div>"
      ],
      "text/plain": [
       "Category  Average Rated  Highly Rated  Low Rated\n",
       "Brand                                           \n",
       "9Ways                 0             1          0\n",
       "AMYTEL                4             6          1\n",
       "AXL                   0             1          0\n",
       "Ambrane               2            26          0\n",
       "Anker                 0             1          0\n",
       "...                 ...           ...        ...\n",
       "slainte               1             0          0\n",
       "sykz                  2             2          1\n",
       "uomi                  1             0          0\n",
       "vismac                0             4          0\n",
       "zofia                 5             5          0\n",
       "\n",
       "[93 rows x 3 columns]"
      ]
     },
     "execution_count": 135,
     "metadata": {},
     "output_type": "execute_result"
    }
   ],
   "source": [
    "pd.crosstab(df1['Brand'],df1['Category'])"
   ]
  },
  {
   "cell_type": "markdown",
   "id": "845e5bef",
   "metadata": {},
   "source": [
    "## Multi-Variate"
   ]
  },
  {
   "cell_type": "markdown",
   "id": "33121599",
   "metadata": {},
   "source": [
    "## Heat Map"
   ]
  },
  {
   "cell_type": "code",
   "execution_count": 136,
   "id": "3d004365",
   "metadata": {},
   "outputs": [
    {
     "data": {
      "text/plain": [
       "23"
      ]
     },
     "execution_count": 136,
     "metadata": {},
     "output_type": "execute_result"
    }
   ],
   "source": [
    "df1['Ratings'].nunique()"
   ]
  },
  {
   "cell_type": "code",
   "execution_count": 137,
   "id": "42d3a360",
   "metadata": {},
   "outputs": [
    {
     "data": {
      "text/html": [
       "<div>\n",
       "<style scoped>\n",
       "    .dataframe tbody tr th:only-of-type {\n",
       "        vertical-align: middle;\n",
       "    }\n",
       "\n",
       "    .dataframe tbody tr th {\n",
       "        vertical-align: top;\n",
       "    }\n",
       "\n",
       "    .dataframe thead th {\n",
       "        text-align: right;\n",
       "    }\n",
       "</style>\n",
       "<table border=\"1\" class=\"dataframe\">\n",
       "  <thead>\n",
       "    <tr style=\"text-align: right;\">\n",
       "      <th></th>\n",
       "      <th>Capacity</th>\n",
       "      <th>Power</th>\n",
       "      <th>Price</th>\n",
       "      <th>Ratings</th>\n",
       "    </tr>\n",
       "  </thead>\n",
       "  <tbody>\n",
       "    <tr>\n",
       "      <th>Capacity</th>\n",
       "      <td>1.000000</td>\n",
       "      <td>0.061697</td>\n",
       "      <td>0.099371</td>\n",
       "      <td>-0.130599</td>\n",
       "    </tr>\n",
       "    <tr>\n",
       "      <th>Power</th>\n",
       "      <td>0.061697</td>\n",
       "      <td>1.000000</td>\n",
       "      <td>0.656658</td>\n",
       "      <td>0.039544</td>\n",
       "    </tr>\n",
       "    <tr>\n",
       "      <th>Price</th>\n",
       "      <td>0.099371</td>\n",
       "      <td>0.656658</td>\n",
       "      <td>1.000000</td>\n",
       "      <td>0.201882</td>\n",
       "    </tr>\n",
       "    <tr>\n",
       "      <th>Ratings</th>\n",
       "      <td>-0.130599</td>\n",
       "      <td>0.039544</td>\n",
       "      <td>0.201882</td>\n",
       "      <td>1.000000</td>\n",
       "    </tr>\n",
       "  </tbody>\n",
       "</table>\n",
       "</div>"
      ],
      "text/plain": [
       "          Capacity     Power     Price   Ratings\n",
       "Capacity  1.000000  0.061697  0.099371 -0.130599\n",
       "Power     0.061697  1.000000  0.656658  0.039544\n",
       "Price     0.099371  0.656658  1.000000  0.201882\n",
       "Ratings  -0.130599  0.039544  0.201882  1.000000"
      ]
     },
     "execution_count": 137,
     "metadata": {},
     "output_type": "execute_result"
    }
   ],
   "source": [
    "df1.corr(numeric_only = True)"
   ]
  },
  {
   "cell_type": "code",
   "execution_count": 138,
   "id": "11f1400b",
   "metadata": {},
   "outputs": [
    {
     "data": {
      "text/plain": [
       "<Axes: >"
      ]
     },
     "execution_count": 138,
     "metadata": {},
     "output_type": "execute_result"
    },
    {
     "data": {
      "image/png": "[encoded data removed]",
      "text/plain": [
       "<Figure size 640x480 with 2 Axes>"
      ]
     },
     "metadata": {},
     "output_type": "display_data"
    }
   ],
   "source": [
    "sns.heatmap(df1.corr(numeric_only = True),annot=True)"
   ]
  },
  {
   "cell_type": "markdown",
   "id": "e6ce2d93",
   "metadata": {},
   "source": [
    "## Pair Plot"
   ]
  },
  {
   "cell_type": "code",
   "execution_count": 113,
   "id": "b9dca11a",
   "metadata": {},
   "outputs": [],
   "source": [
    "#sns.pairplot(df1,hue = 'Category',corner = True,palette = 'rocket')"
   ]
  },
  {
   "cell_type": "code",
   "execution_count": 433,
   "id": "7d72d542",
   "metadata": {},
   "outputs": [
    {
     "data": {
      "text/html": [
       "<div>\n",
       "<style scoped>\n",
       "    .dataframe tbody tr th:only-of-type {\n",
       "        vertical-align: middle;\n",
       "    }\n",
       "\n",
       "    .dataframe tbody tr th {\n",
       "        vertical-align: top;\n",
       "    }\n",
       "\n",
       "    .dataframe thead th {\n",
       "        text-align: right;\n",
       "    }\n",
       "</style>\n",
       "<table border=\"1\" class=\"dataframe\">\n",
       "  <thead>\n",
       "    <tr style=\"text-align: right;\">\n",
       "      <th></th>\n",
       "      <th>Brand</th>\n",
       "      <th>Capacity</th>\n",
       "      <th>Power</th>\n",
       "      <th>Price</th>\n",
       "      <th>Color</th>\n",
       "      <th>Battery_Type</th>\n",
       "      <th>Ratings</th>\n",
       "    </tr>\n",
       "  </thead>\n",
       "  <tbody>\n",
       "    <tr>\n",
       "      <th>0</th>\n",
       "      <td>Ambrane</td>\n",
       "      <td>10000</td>\n",
       "      <td>20</td>\n",
       "      <td>699.0</td>\n",
       "      <td>BankGreen</td>\n",
       "      <td>Lithium Polymer</td>\n",
       "      <td>4.1</td>\n",
       "    </tr>\n",
       "    <tr>\n",
       "      <th>1</th>\n",
       "      <td>ORAIMO</td>\n",
       "      <td>20000</td>\n",
       "      <td>12</td>\n",
       "      <td>999.0</td>\n",
       "      <td>BankBlack</td>\n",
       "      <td>Lithium Polymer</td>\n",
       "      <td>4.1</td>\n",
       "    </tr>\n",
       "    <tr>\n",
       "      <th>2</th>\n",
       "      <td>Mi</td>\n",
       "      <td>20000</td>\n",
       "      <td>18</td>\n",
       "      <td>1999.0</td>\n",
       "      <td>BankBlack</td>\n",
       "      <td>Lithium Polymer</td>\n",
       "      <td>4.3</td>\n",
       "    </tr>\n",
       "    <tr>\n",
       "      <th>3</th>\n",
       "      <td>Mi</td>\n",
       "      <td>10000</td>\n",
       "      <td>18</td>\n",
       "      <td>1249.0</td>\n",
       "      <td>BankBlack</td>\n",
       "      <td>Lithium Polymer</td>\n",
       "      <td>4.3</td>\n",
       "    </tr>\n",
       "    <tr>\n",
       "      <th>4</th>\n",
       "      <td>Ambrane</td>\n",
       "      <td>10000</td>\n",
       "      <td>20</td>\n",
       "      <td>998.0</td>\n",
       "      <td>BankBlack</td>\n",
       "      <td>Lithium Polymer</td>\n",
       "      <td>4.1</td>\n",
       "    </tr>\n",
       "    <tr>\n",
       "      <th>...</th>\n",
       "      <td>...</td>\n",
       "      <td>...</td>\n",
       "      <td>...</td>\n",
       "      <td>...</td>\n",
       "      <td>...</td>\n",
       "      <td>...</td>\n",
       "      <td>...</td>\n",
       "    </tr>\n",
       "    <tr>\n",
       "      <th>629</th>\n",
       "      <td>misspro</td>\n",
       "      <td>10000</td>\n",
       "      <td>12</td>\n",
       "      <td>599.0</td>\n",
       "      <td>BankBlack</td>\n",
       "      <td>Lithium-ion</td>\n",
       "      <td>4.1</td>\n",
       "    </tr>\n",
       "    <tr>\n",
       "      <th>630</th>\n",
       "      <td>DG</td>\n",
       "      <td>48300</td>\n",
       "      <td>18</td>\n",
       "      <td>1399.0</td>\n",
       "      <td>BankBlack</td>\n",
       "      <td>Lithium Polymer</td>\n",
       "      <td>4.1</td>\n",
       "    </tr>\n",
       "    <tr>\n",
       "      <th>631</th>\n",
       "      <td>sykz</td>\n",
       "      <td>10000</td>\n",
       "      <td>18</td>\n",
       "      <td>719.0</td>\n",
       "      <td>BankWhite</td>\n",
       "      <td>Lithium Polymer</td>\n",
       "      <td>4.1</td>\n",
       "    </tr>\n",
       "    <tr>\n",
       "      <th>632</th>\n",
       "      <td>DG</td>\n",
       "      <td>46300</td>\n",
       "      <td>20</td>\n",
       "      <td>1399.0</td>\n",
       "      <td>BankRed</td>\n",
       "      <td>Lithium Polymer</td>\n",
       "      <td>4.3</td>\n",
       "    </tr>\n",
       "    <tr>\n",
       "      <th>633</th>\n",
       "      <td>DG</td>\n",
       "      <td>38600</td>\n",
       "      <td>20</td>\n",
       "      <td>1459.0</td>\n",
       "      <td>BankBlue</td>\n",
       "      <td>Lithium Polymer</td>\n",
       "      <td>4.3</td>\n",
       "    </tr>\n",
       "  </tbody>\n",
       "</table>\n",
       "<p>634 rows × 7 columns</p>\n",
       "</div>"
      ],
      "text/plain": [
       "       Brand  Capacity  Power   Price      Color     Battery_Type  Ratings\n",
       "0    Ambrane     10000     20   699.0  BankGreen  Lithium Polymer      4.1\n",
       "1     ORAIMO     20000     12   999.0  BankBlack  Lithium Polymer      4.1\n",
       "2         Mi     20000     18  1999.0  BankBlack  Lithium Polymer      4.3\n",
       "3         Mi     10000     18  1249.0  BankBlack  Lithium Polymer      4.3\n",
       "4    Ambrane     10000     20   998.0  BankBlack  Lithium Polymer      4.1\n",
       "..       ...       ...    ...     ...        ...              ...      ...\n",
       "629  misspro     10000     12   599.0  BankBlack      Lithium-ion      4.1\n",
       "630       DG     48300     18  1399.0  BankBlack  Lithium Polymer      4.1\n",
       "631     sykz     10000     18   719.0  BankWhite  Lithium Polymer      4.1\n",
       "632       DG     46300     20  1399.0    BankRed  Lithium Polymer      4.3\n",
       "633       DG     38600     20  1459.0   BankBlue  Lithium Polymer      4.3\n",
       "\n",
       "[634 rows x 7 columns]"
      ]
     },
     "execution_count": 433,
     "metadata": {},
     "output_type": "execute_result"
    }
   ],
   "source": [
    "df1"
   ]
  },
  {
   "cell_type": "code",
   "execution_count": 114,
   "id": "c2d7058c",
   "metadata": {},
   "outputs": [],
   "source": [
    "#sns.jointplot(data =df1,x = 'Capacity',y = 'Price',hue = 'Category',palette = 'tab10')"
   ]
  },
  {
   "cell_type": "code",
   "execution_count": 37,
   "id": "a51f22c6",
   "metadata": {},
   "outputs": [
    {
     "data": {
      "text/html": [
       "<div>\n",
       "<style scoped>\n",
       "    .dataframe tbody tr th:only-of-type {\n",
       "        vertical-align: middle;\n",
       "    }\n",
       "\n",
       "    .dataframe tbody tr th {\n",
       "        vertical-align: top;\n",
       "    }\n",
       "\n",
       "    .dataframe thead th {\n",
       "        text-align: right;\n",
       "    }\n",
       "</style>\n",
       "<table border=\"1\" class=\"dataframe\">\n",
       "  <thead>\n",
       "    <tr style=\"text-align: right;\">\n",
       "      <th></th>\n",
       "      <th>Unnamed: 0</th>\n",
       "      <th>Brand</th>\n",
       "      <th>Capacity</th>\n",
       "      <th>Power</th>\n",
       "      <th>Price</th>\n",
       "      <th>Color</th>\n",
       "      <th>Battery_Type</th>\n",
       "      <th>Ratings</th>\n",
       "    </tr>\n",
       "  </thead>\n",
       "  <tbody>\n",
       "    <tr>\n",
       "      <th>0</th>\n",
       "      <td>0</td>\n",
       "      <td>ORAIMO</td>\n",
       "      <td>20000.0</td>\n",
       "      <td>12.0</td>\n",
       "      <td>999.0</td>\n",
       "      <td>BankBlack</td>\n",
       "      <td>Lithium Polymer</td>\n",
       "      <td>4.1</td>\n",
       "    </tr>\n",
       "    <tr>\n",
       "      <th>1</th>\n",
       "      <td>1</td>\n",
       "      <td>boAt</td>\n",
       "      <td>10000.0</td>\n",
       "      <td>22.5</td>\n",
       "      <td>1399.0</td>\n",
       "      <td>NaN</td>\n",
       "      <td>Lithium Polymer</td>\n",
       "      <td>4.1</td>\n",
       "    </tr>\n",
       "    <tr>\n",
       "      <th>2</th>\n",
       "      <td>2</td>\n",
       "      <td>Mi</td>\n",
       "      <td>20000.0</td>\n",
       "      <td>18.0</td>\n",
       "      <td>2145.0</td>\n",
       "      <td>BankBlack</td>\n",
       "      <td>Lithium Polymer</td>\n",
       "      <td>4.3</td>\n",
       "    </tr>\n",
       "    <tr>\n",
       "      <th>3</th>\n",
       "      <td>3</td>\n",
       "      <td>Mi</td>\n",
       "      <td>10000.0</td>\n",
       "      <td>18.0</td>\n",
       "      <td>1299.0</td>\n",
       "      <td>BankBlue</td>\n",
       "      <td>Lithium Polymer</td>\n",
       "      <td>4.3</td>\n",
       "    </tr>\n",
       "    <tr>\n",
       "      <th>4</th>\n",
       "      <td>4</td>\n",
       "      <td>Mi</td>\n",
       "      <td>10000.0</td>\n",
       "      <td>18.0</td>\n",
       "      <td>1299.0</td>\n",
       "      <td>BankBlack</td>\n",
       "      <td>Lithium Polymer</td>\n",
       "      <td>4.3</td>\n",
       "    </tr>\n",
       "    <tr>\n",
       "      <th>...</th>\n",
       "      <td>...</td>\n",
       "      <td>...</td>\n",
       "      <td>...</td>\n",
       "      <td>...</td>\n",
       "      <td>...</td>\n",
       "      <td>...</td>\n",
       "      <td>...</td>\n",
       "      <td>...</td>\n",
       "    </tr>\n",
       "    <tr>\n",
       "      <th>155</th>\n",
       "      <td>155</td>\n",
       "      <td>Callmate</td>\n",
       "      <td>5000.0</td>\n",
       "      <td>15.0</td>\n",
       "      <td>699.0</td>\n",
       "      <td>BankBlack</td>\n",
       "      <td>Lithium-ion</td>\n",
       "      <td>3.8</td>\n",
       "    </tr>\n",
       "    <tr>\n",
       "      <th>156</th>\n",
       "      <td>156</td>\n",
       "      <td>Callmate</td>\n",
       "      <td>10000.0</td>\n",
       "      <td>15.0</td>\n",
       "      <td>999.0</td>\n",
       "      <td>BankBlack</td>\n",
       "      <td>Lithium Polymer</td>\n",
       "      <td>NaN</td>\n",
       "    </tr>\n",
       "    <tr>\n",
       "      <th>157</th>\n",
       "      <td>157</td>\n",
       "      <td>URBN</td>\n",
       "      <td>27000.0</td>\n",
       "      <td>22.5</td>\n",
       "      <td>2499.0</td>\n",
       "      <td>BankBlue</td>\n",
       "      <td>Lithium Polymer</td>\n",
       "      <td>4.2</td>\n",
       "    </tr>\n",
       "    <tr>\n",
       "      <th>158</th>\n",
       "      <td>158</td>\n",
       "      <td>Ambrane</td>\n",
       "      <td>10000.0</td>\n",
       "      <td>22.5</td>\n",
       "      <td>1299.0</td>\n",
       "      <td>BankBlack</td>\n",
       "      <td>Lithium Polymer</td>\n",
       "      <td>4.2</td>\n",
       "    </tr>\n",
       "    <tr>\n",
       "      <th>159</th>\n",
       "      <td>159</td>\n",
       "      <td>Ambrane</td>\n",
       "      <td>10000.0</td>\n",
       "      <td>22.5</td>\n",
       "      <td>1299.0</td>\n",
       "      <td>BankPurple</td>\n",
       "      <td>Lithium Polymer</td>\n",
       "      <td>4.2</td>\n",
       "    </tr>\n",
       "  </tbody>\n",
       "</table>\n",
       "<p>160 rows × 8 columns</p>\n",
       "</div>"
      ],
      "text/plain": [
       "     Unnamed: 0     Brand  Capacity  Power   Price       Color  \\\n",
       "0             0    ORAIMO   20000.0   12.0   999.0   BankBlack   \n",
       "1             1      boAt   10000.0   22.5  1399.0         NaN   \n",
       "2             2        Mi   20000.0   18.0  2145.0   BankBlack   \n",
       "3             3        Mi   10000.0   18.0  1299.0    BankBlue   \n",
       "4             4        Mi   10000.0   18.0  1299.0   BankBlack   \n",
       "..          ...       ...       ...    ...     ...         ...   \n",
       "155         155  Callmate    5000.0   15.0   699.0   BankBlack   \n",
       "156         156  Callmate   10000.0   15.0   999.0   BankBlack   \n",
       "157         157      URBN   27000.0   22.5  2499.0    BankBlue   \n",
       "158         158   Ambrane   10000.0   22.5  1299.0   BankBlack   \n",
       "159         159   Ambrane   10000.0   22.5  1299.0  BankPurple   \n",
       "\n",
       "        Battery_Type  Ratings  \n",
       "0    Lithium Polymer      4.1  \n",
       "1    Lithium Polymer      4.1  \n",
       "2    Lithium Polymer      4.3  \n",
       "3    Lithium Polymer      4.3  \n",
       "4    Lithium Polymer      4.3  \n",
       "..               ...      ...  \n",
       "155      Lithium-ion      3.8  \n",
       "156  Lithium Polymer      NaN  \n",
       "157  Lithium Polymer      4.2  \n",
       "158  Lithium Polymer      4.2  \n",
       "159  Lithium Polymer      4.2  \n",
       "\n",
       "[160 rows x 8 columns]"
      ]
     },
     "execution_count": 37,
     "metadata": {},
     "output_type": "execute_result"
    }
   ],
   "source": [
    "df1"
   ]
  },
  {
   "cell_type": "code",
   "execution_count": 48,
   "id": "bbad56b3",
   "metadata": {},
   "outputs": [
    {
     "data": {
      "text/html": [
       "<div>\n",
       "<style scoped>\n",
       "    .dataframe tbody tr th:only-of-type {\n",
       "        vertical-align: middle;\n",
       "    }\n",
       "\n",
       "    .dataframe tbody tr th {\n",
       "        vertical-align: top;\n",
       "    }\n",
       "\n",
       "    .dataframe thead th {\n",
       "        text-align: right;\n",
       "    }\n",
       "</style>\n",
       "<table border=\"1\" class=\"dataframe\">\n",
       "  <thead>\n",
       "    <tr style=\"text-align: right;\">\n",
       "      <th></th>\n",
       "      <th>Unnamed: 0</th>\n",
       "      <th>Brand</th>\n",
       "      <th>Capacity</th>\n",
       "      <th>Power</th>\n",
       "      <th>Price</th>\n",
       "      <th>Color</th>\n",
       "      <th>Ratings</th>\n",
       "    </tr>\n",
       "    <tr>\n",
       "      <th>Battery_Type</th>\n",
       "      <th></th>\n",
       "      <th></th>\n",
       "      <th></th>\n",
       "      <th></th>\n",
       "      <th></th>\n",
       "      <th></th>\n",
       "      <th></th>\n",
       "    </tr>\n",
       "  </thead>\n",
       "  <tbody>\n",
       "    <tr>\n",
       "      <th>Lithium Polymer</th>\n",
       "      <td>149</td>\n",
       "      <td>149</td>\n",
       "      <td>149</td>\n",
       "      <td>146</td>\n",
       "      <td>148</td>\n",
       "      <td>105</td>\n",
       "      <td>143</td>\n",
       "    </tr>\n",
       "    <tr>\n",
       "      <th>Lithium-ion</th>\n",
       "      <td>11</td>\n",
       "      <td>11</td>\n",
       "      <td>10</td>\n",
       "      <td>9</td>\n",
       "      <td>11</td>\n",
       "      <td>11</td>\n",
       "      <td>7</td>\n",
       "    </tr>\n",
       "  </tbody>\n",
       "</table>\n",
       "</div>"
      ],
      "text/plain": [
       "                 Unnamed: 0  Brand  Capacity  Power  Price  Color  Ratings\n",
       "Battery_Type                                                              \n",
       "Lithium Polymer         149    149       149    146    148    105      143\n",
       "Lithium-ion              11     11        10      9     11     11        7"
      ]
     },
     "execution_count": 48,
     "metadata": {},
     "output_type": "execute_result"
    }
   ],
   "source": [
    "df1.groupby('Battery_Type',dropna=False).count()"
   ]
  },
  {
   "cell_type": "code",
   "execution_count": 61,
   "id": "a697123d",
   "metadata": {},
   "outputs": [
    {
     "data": {
      "text/html": [
       "<div>\n",
       "<style scoped>\n",
       "    .dataframe tbody tr th:only-of-type {\n",
       "        vertical-align: middle;\n",
       "    }\n",
       "\n",
       "    .dataframe tbody tr th {\n",
       "        vertical-align: top;\n",
       "    }\n",
       "\n",
       "    .dataframe thead th {\n",
       "        text-align: right;\n",
       "    }\n",
       "</style>\n",
       "<table border=\"1\" class=\"dataframe\">\n",
       "  <thead>\n",
       "    <tr style=\"text-align: right;\">\n",
       "      <th></th>\n",
       "      <th>Brand</th>\n",
       "      <th>Capacity</th>\n",
       "      <th>Power</th>\n",
       "      <th>Price</th>\n",
       "      <th>Color</th>\n",
       "      <th>Battery_Type</th>\n",
       "      <th>Ratings</th>\n",
       "    </tr>\n",
       "  </thead>\n",
       "  <tbody>\n",
       "    <tr>\n",
       "      <th>0</th>\n",
       "      <td>ORAIMO</td>\n",
       "      <td>20000.0</td>\n",
       "      <td>12.0</td>\n",
       "      <td>999.0</td>\n",
       "      <td>BankBlack</td>\n",
       "      <td>Lithium Polymer</td>\n",
       "      <td>4.1</td>\n",
       "    </tr>\n",
       "    <tr>\n",
       "      <th>1</th>\n",
       "      <td>boAt</td>\n",
       "      <td>10000.0</td>\n",
       "      <td>22.5</td>\n",
       "      <td>1399.0</td>\n",
       "      <td>NaN</td>\n",
       "      <td>Lithium Polymer</td>\n",
       "      <td>4.1</td>\n",
       "    </tr>\n",
       "    <tr>\n",
       "      <th>2</th>\n",
       "      <td>Mi</td>\n",
       "      <td>20000.0</td>\n",
       "      <td>18.0</td>\n",
       "      <td>2145.0</td>\n",
       "      <td>BankBlack</td>\n",
       "      <td>Lithium Polymer</td>\n",
       "      <td>4.3</td>\n",
       "    </tr>\n",
       "    <tr>\n",
       "      <th>3</th>\n",
       "      <td>Mi</td>\n",
       "      <td>10000.0</td>\n",
       "      <td>18.0</td>\n",
       "      <td>1299.0</td>\n",
       "      <td>BankBlue</td>\n",
       "      <td>Lithium Polymer</td>\n",
       "      <td>4.3</td>\n",
       "    </tr>\n",
       "    <tr>\n",
       "      <th>4</th>\n",
       "      <td>Mi</td>\n",
       "      <td>10000.0</td>\n",
       "      <td>18.0</td>\n",
       "      <td>1299.0</td>\n",
       "      <td>BankBlack</td>\n",
       "      <td>Lithium Polymer</td>\n",
       "      <td>4.3</td>\n",
       "    </tr>\n",
       "    <tr>\n",
       "      <th>...</th>\n",
       "      <td>...</td>\n",
       "      <td>...</td>\n",
       "      <td>...</td>\n",
       "      <td>...</td>\n",
       "      <td>...</td>\n",
       "      <td>...</td>\n",
       "      <td>...</td>\n",
       "    </tr>\n",
       "    <tr>\n",
       "      <th>155</th>\n",
       "      <td>Callmate</td>\n",
       "      <td>5000.0</td>\n",
       "      <td>15.0</td>\n",
       "      <td>699.0</td>\n",
       "      <td>BankBlack</td>\n",
       "      <td>Lithium-ion</td>\n",
       "      <td>3.8</td>\n",
       "    </tr>\n",
       "    <tr>\n",
       "      <th>156</th>\n",
       "      <td>Callmate</td>\n",
       "      <td>10000.0</td>\n",
       "      <td>15.0</td>\n",
       "      <td>999.0</td>\n",
       "      <td>BankBlack</td>\n",
       "      <td>Lithium Polymer</td>\n",
       "      <td>NaN</td>\n",
       "    </tr>\n",
       "    <tr>\n",
       "      <th>157</th>\n",
       "      <td>URBN</td>\n",
       "      <td>27000.0</td>\n",
       "      <td>22.5</td>\n",
       "      <td>2499.0</td>\n",
       "      <td>BankBlue</td>\n",
       "      <td>Lithium Polymer</td>\n",
       "      <td>4.2</td>\n",
       "    </tr>\n",
       "    <tr>\n",
       "      <th>158</th>\n",
       "      <td>Ambrane</td>\n",
       "      <td>10000.0</td>\n",
       "      <td>22.5</td>\n",
       "      <td>1299.0</td>\n",
       "      <td>BankBlack</td>\n",
       "      <td>Lithium Polymer</td>\n",
       "      <td>4.2</td>\n",
       "    </tr>\n",
       "    <tr>\n",
       "      <th>159</th>\n",
       "      <td>Ambrane</td>\n",
       "      <td>10000.0</td>\n",
       "      <td>22.5</td>\n",
       "      <td>1299.0</td>\n",
       "      <td>BankPurple</td>\n",
       "      <td>Lithium Polymer</td>\n",
       "      <td>4.2</td>\n",
       "    </tr>\n",
       "  </tbody>\n",
       "</table>\n",
       "<p>160 rows × 7 columns</p>\n",
       "</div>"
      ],
      "text/plain": [
       "        Brand  Capacity  Power   Price       Color     Battery_Type  Ratings\n",
       "0      ORAIMO   20000.0   12.0   999.0   BankBlack  Lithium Polymer      4.1\n",
       "1        boAt   10000.0   22.5  1399.0         NaN  Lithium Polymer      4.1\n",
       "2          Mi   20000.0   18.0  2145.0   BankBlack  Lithium Polymer      4.3\n",
       "3          Mi   10000.0   18.0  1299.0    BankBlue  Lithium Polymer      4.3\n",
       "4          Mi   10000.0   18.0  1299.0   BankBlack  Lithium Polymer      4.3\n",
       "..        ...       ...    ...     ...         ...              ...      ...\n",
       "155  Callmate    5000.0   15.0   699.0   BankBlack      Lithium-ion      3.8\n",
       "156  Callmate   10000.0   15.0   999.0   BankBlack  Lithium Polymer      NaN\n",
       "157      URBN   27000.0   22.5  2499.0    BankBlue  Lithium Polymer      4.2\n",
       "158   Ambrane   10000.0   22.5  1299.0   BankBlack  Lithium Polymer      4.2\n",
       "159   Ambrane   10000.0   22.5  1299.0  BankPurple  Lithium Polymer      4.2\n",
       "\n",
       "[160 rows x 7 columns]"
      ]
     },
     "execution_count": 61,
     "metadata": {},
     "output_type": "execute_result"
    }
   ],
   "source": [
    "df1"
   ]
  },
  {
   "cell_type": "code",
   "execution_count": 139,
   "id": "8c945604",
   "metadata": {},
   "outputs": [
    {
     "data": {
      "text/plain": [
       "Brand           0\n",
       "Capacity        0\n",
       "Power           0\n",
       "Price           0\n",
       "Color           0\n",
       "Battery_Type    0\n",
       "Ratings         0\n",
       "Category        0\n",
       "dtype: int64"
      ]
     },
     "execution_count": 139,
     "metadata": {},
     "output_type": "execute_result"
    }
   ],
   "source": [
    "df1.isna().sum()"
   ]
  },
  {
   "cell_type": "code",
   "execution_count": null,
   "id": "8d7bf70c",
   "metadata": {},
   "outputs": [],
   "source": []
  }
 ],
 "metadata": {
  "kernelspec": {
   "display_name": "Python 3 (ipykernel)",
   "language": "python",
   "name": "python3"
  },
  "language_info": {
   "codemirror_mode": {
    "name": "ipython",
    "version": 3
   },
   "file_extension": ".py",
   "mimetype": "text/x-python",
   "name": "python",
   "nbconvert_exporter": "python",
   "pygments_lexer": "ipython3",
   "version": "3.11.5"
  }
 },
 "nbformat": 4,
 "nbformat_minor": 5
}
